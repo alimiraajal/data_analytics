{
 "cells": [
  {
   "cell_type": "markdown",
   "id": "c22f476e",
   "metadata": {},
   "source": [
    "## Marketing Campaigns Analysis"
   ]
  },
  {
   "cell_type": "markdown",
   "id": "1fab3253",
   "metadata": {},
   "source": [
    "### Import Module"
   ]
  },
  {
   "cell_type": "code",
   "execution_count": 2,
   "id": "55afa2f8",
   "metadata": {},
   "outputs": [],
   "source": [
    "import pandas as pd\n",
    "import numpy as np\n",
    "import matplotlib.pyplot as plt\n",
    "import seaborn as sns\n",
    "sns.set()"
   ]
  },
  {
   "cell_type": "markdown",
   "id": "3ca02464",
   "metadata": {},
   "source": [
    "### Load Dataset - Data Preparation"
   ]
  },
  {
   "cell_type": "code",
   "execution_count": 138,
   "id": "451d3b65",
   "metadata": {},
   "outputs": [
    {
     "data": {
      "text/html": [
       "<div>\n",
       "<style scoped>\n",
       "    .dataframe tbody tr th:only-of-type {\n",
       "        vertical-align: middle;\n",
       "    }\n",
       "\n",
       "    .dataframe tbody tr th {\n",
       "        vertical-align: top;\n",
       "    }\n",
       "\n",
       "    .dataframe thead th {\n",
       "        text-align: right;\n",
       "    }\n",
       "</style>\n",
       "<table border=\"1\" class=\"dataframe\">\n",
       "  <thead>\n",
       "    <tr style=\"text-align: right;\">\n",
       "      <th></th>\n",
       "      <th>age</th>\n",
       "      <th>job</th>\n",
       "      <th>marital</th>\n",
       "      <th>education</th>\n",
       "      <th>default</th>\n",
       "      <th>balance</th>\n",
       "      <th>housing</th>\n",
       "      <th>loan</th>\n",
       "      <th>contact</th>\n",
       "      <th>day</th>\n",
       "      <th>month</th>\n",
       "      <th>duration</th>\n",
       "      <th>campaign</th>\n",
       "      <th>pdays</th>\n",
       "      <th>previous</th>\n",
       "      <th>poutcome</th>\n",
       "      <th>y</th>\n",
       "    </tr>\n",
       "  </thead>\n",
       "  <tbody>\n",
       "    <tr>\n",
       "      <th>0</th>\n",
       "      <td>58</td>\n",
       "      <td>management</td>\n",
       "      <td>married</td>\n",
       "      <td>tertiary</td>\n",
       "      <td>no</td>\n",
       "      <td>2143</td>\n",
       "      <td>yes</td>\n",
       "      <td>no</td>\n",
       "      <td>unknown</td>\n",
       "      <td>5</td>\n",
       "      <td>may</td>\n",
       "      <td>261</td>\n",
       "      <td>1</td>\n",
       "      <td>-1</td>\n",
       "      <td>0</td>\n",
       "      <td>unknown</td>\n",
       "      <td>no</td>\n",
       "    </tr>\n",
       "    <tr>\n",
       "      <th>1</th>\n",
       "      <td>44</td>\n",
       "      <td>technician</td>\n",
       "      <td>single</td>\n",
       "      <td>secondary</td>\n",
       "      <td>no</td>\n",
       "      <td>29</td>\n",
       "      <td>yes</td>\n",
       "      <td>no</td>\n",
       "      <td>unknown</td>\n",
       "      <td>5</td>\n",
       "      <td>may</td>\n",
       "      <td>151</td>\n",
       "      <td>1</td>\n",
       "      <td>-1</td>\n",
       "      <td>0</td>\n",
       "      <td>unknown</td>\n",
       "      <td>no</td>\n",
       "    </tr>\n",
       "    <tr>\n",
       "      <th>2</th>\n",
       "      <td>33</td>\n",
       "      <td>entrepreneur</td>\n",
       "      <td>married</td>\n",
       "      <td>secondary</td>\n",
       "      <td>no</td>\n",
       "      <td>2</td>\n",
       "      <td>yes</td>\n",
       "      <td>yes</td>\n",
       "      <td>unknown</td>\n",
       "      <td>5</td>\n",
       "      <td>may</td>\n",
       "      <td>76</td>\n",
       "      <td>1</td>\n",
       "      <td>-1</td>\n",
       "      <td>0</td>\n",
       "      <td>unknown</td>\n",
       "      <td>no</td>\n",
       "    </tr>\n",
       "    <tr>\n",
       "      <th>3</th>\n",
       "      <td>47</td>\n",
       "      <td>blue-collar</td>\n",
       "      <td>married</td>\n",
       "      <td>unknown</td>\n",
       "      <td>no</td>\n",
       "      <td>1506</td>\n",
       "      <td>yes</td>\n",
       "      <td>no</td>\n",
       "      <td>unknown</td>\n",
       "      <td>5</td>\n",
       "      <td>may</td>\n",
       "      <td>92</td>\n",
       "      <td>1</td>\n",
       "      <td>-1</td>\n",
       "      <td>0</td>\n",
       "      <td>unknown</td>\n",
       "      <td>no</td>\n",
       "    </tr>\n",
       "    <tr>\n",
       "      <th>4</th>\n",
       "      <td>33</td>\n",
       "      <td>unknown</td>\n",
       "      <td>single</td>\n",
       "      <td>unknown</td>\n",
       "      <td>no</td>\n",
       "      <td>1</td>\n",
       "      <td>no</td>\n",
       "      <td>no</td>\n",
       "      <td>unknown</td>\n",
       "      <td>5</td>\n",
       "      <td>may</td>\n",
       "      <td>198</td>\n",
       "      <td>1</td>\n",
       "      <td>-1</td>\n",
       "      <td>0</td>\n",
       "      <td>unknown</td>\n",
       "      <td>no</td>\n",
       "    </tr>\n",
       "  </tbody>\n",
       "</table>\n",
       "</div>"
      ],
      "text/plain": [
       "   age           job  marital  education default  balance housing loan  \\\n",
       "0   58    management  married   tertiary      no     2143     yes   no   \n",
       "1   44    technician   single  secondary      no       29     yes   no   \n",
       "2   33  entrepreneur  married  secondary      no        2     yes  yes   \n",
       "3   47   blue-collar  married    unknown      no     1506     yes   no   \n",
       "4   33       unknown   single    unknown      no        1      no   no   \n",
       "\n",
       "   contact  day month  duration  campaign  pdays  previous poutcome   y  \n",
       "0  unknown    5   may       261         1     -1         0  unknown  no  \n",
       "1  unknown    5   may       151         1     -1         0  unknown  no  \n",
       "2  unknown    5   may        76         1     -1         0  unknown  no  \n",
       "3  unknown    5   may        92         1     -1         0  unknown  no  \n",
       "4  unknown    5   may       198         1     -1         0  unknown  no  "
      ]
     },
     "execution_count": 138,
     "metadata": {},
     "output_type": "execute_result"
    }
   ],
   "source": [
    "data = pd.read_csv('Dataset/bank-full.csv', sep=';')\n",
    "data.head()"
   ]
  },
  {
   "cell_type": "markdown",
   "id": "9fd7de3e",
   "metadata": {},
   "source": [
    "### Attribute Information"
   ]
  },
  {
   "cell_type": "markdown",
   "id": "0c0275aa",
   "metadata": {},
   "source": [
    "#### Bank Client Data\n",
    "\n",
    "1. Age - Usia (tipe data numeric)\n",
    "2. Job - Pekerjaan (tipe data kategori : \"admin.\",\"unknown\",\"unemployed\",\"management\",\"housemaid\",\"entrepreneur\",\"student\",\"blue-collar\",\"self-employed\",\"retired\",\"technician\",\"services\")\n",
    "3. Marital - Status Pernikahan (tipe data kategori : \"married\",\"divorced\",\"single\")\n",
    "4. Education - Pendidikan (tipe data kategori : \"unknown\",\"secondary\",\"primary\",\"tertiary\")\n",
    "5. Default - Apakah mempunyai Kredit? (tipe data binary : \"Yes\", \"No\")\n",
    "6. Balance - Jumlah Rata-rata Tabungan per tahun (tipe data numeric)\n",
    "7. Housing - Apakah mempunyai kredit rumah? (tipe data binary : \"Yes\", \"No\")\n",
    "8. Loan - Apakah mempunyai pinjaman pribadi? (tipe data binary : \"Yes\", \"No\")\n",
    "\n",
    "#### Last Contact Current Campaigns\n",
    "9. Contact - Tipe Komunikasi yang digunakan (tipe kategori : \"unknown\",\"telephone\",\"cellular\")\n",
    "10. Day - Hari terakhir dihubungi (tipe data numeric)\n",
    "11. Month - Bulan terakhir dihubungi (tipe data kategori : jan\", \"feb\", \"mar\", ..., \"nov\", \"dec\")\n",
    "12. Duration - Durasi komunikasi yang dilakukan - dalam detik (tipe data numeric)\n",
    "\n",
    "#### Other Attributes\n",
    "13. Campaign - Jumlah kontak yang dilakukan selama masa campaign (tipe data numeric)\n",
    "14. Pdays - Jumlah hari yang berlalu setelah client terakhir dihubungi, -1 berarti client sebelumnya tidak dihubungi (tipe data numeric)\n",
    "15. Previous - Jumlah kontak yang dilakukan sebelum masa campaign\n",
    "16. Poutcome - Hasil dari Campaign sebelumnya (tipe data kategori : \"unknown\",\"other\",\"failure\",\"success\")\n",
    "\n",
    "#### Output - Desire Target\n",
    "17. Y - Apakah client berlangganan deposit? (tipe data binary : \"Yes\", \"No\")"
   ]
  },
  {
   "cell_type": "code",
   "execution_count": 4,
   "id": "8f39d8e3",
   "metadata": {
    "scrolled": true
   },
   "outputs": [
    {
     "data": {
      "text/plain": [
       "(45211, 17)"
      ]
     },
     "execution_count": 4,
     "metadata": {},
     "output_type": "execute_result"
    }
   ],
   "source": [
    "data.shape"
   ]
  },
  {
   "cell_type": "markdown",
   "id": "1cf06443",
   "metadata": {},
   "source": [
    "Dataset terdiri dari:\n",
    "1. 45211 baris\n",
    "2. 17 kolom"
   ]
  },
  {
   "cell_type": "code",
   "execution_count": 5,
   "id": "1c4136cf",
   "metadata": {},
   "outputs": [
    {
     "name": "stdout",
     "output_type": "stream",
     "text": [
      "<class 'pandas.core.frame.DataFrame'>\n",
      "RangeIndex: 45211 entries, 0 to 45210\n",
      "Data columns (total 17 columns):\n",
      " #   Column     Non-Null Count  Dtype \n",
      "---  ------     --------------  ----- \n",
      " 0   age        45211 non-null  int64 \n",
      " 1   job        45211 non-null  object\n",
      " 2   marital    45211 non-null  object\n",
      " 3   education  45211 non-null  object\n",
      " 4   default    45211 non-null  object\n",
      " 5   balance    45211 non-null  int64 \n",
      " 6   housing    45211 non-null  object\n",
      " 7   loan       45211 non-null  object\n",
      " 8   contact    45211 non-null  object\n",
      " 9   day        45211 non-null  int64 \n",
      " 10  month      45211 non-null  object\n",
      " 11  duration   45211 non-null  int64 \n",
      " 12  campaign   45211 non-null  int64 \n",
      " 13  pdays      45211 non-null  int64 \n",
      " 14  previous   45211 non-null  int64 \n",
      " 15  poutcome   45211 non-null  object\n",
      " 16  y          45211 non-null  object\n",
      "dtypes: int64(7), object(10)\n",
      "memory usage: 5.9+ MB\n"
     ]
    }
   ],
   "source": [
    "data.info()"
   ]
  },
  {
   "cell_type": "markdown",
   "id": "b98b05ac",
   "metadata": {},
   "source": [
    "#### Informasi yang kita dapatkan dari hasil diatas yaitu:\n",
    "1. Dataset secara general didominasi tipe data object.\n",
    "2. Tipe data lain yang terdapat dalam dataset yaitu tipe data int64.\n",
    "3. Tidak terdapat Missing Value di dalam Dataset"
   ]
  },
  {
   "cell_type": "markdown",
   "id": "f822f597",
   "metadata": {},
   "source": [
    "### Exploratory Data Analysis"
   ]
  },
  {
   "cell_type": "markdown",
   "id": "dc989c1a",
   "metadata": {},
   "source": [
    "#### EDA Object Type"
   ]
  },
  {
   "cell_type": "code",
   "execution_count": 6,
   "id": "00192f8b",
   "metadata": {
    "scrolled": true
   },
   "outputs": [
    {
     "data": {
      "text/html": [
       "<div>\n",
       "<style scoped>\n",
       "    .dataframe tbody tr th:only-of-type {\n",
       "        vertical-align: middle;\n",
       "    }\n",
       "\n",
       "    .dataframe tbody tr th {\n",
       "        vertical-align: top;\n",
       "    }\n",
       "\n",
       "    .dataframe thead th {\n",
       "        text-align: right;\n",
       "    }\n",
       "</style>\n",
       "<table border=\"1\" class=\"dataframe\">\n",
       "  <thead>\n",
       "    <tr style=\"text-align: right;\">\n",
       "      <th></th>\n",
       "      <th>job</th>\n",
       "      <th>marital</th>\n",
       "      <th>education</th>\n",
       "      <th>default</th>\n",
       "      <th>housing</th>\n",
       "      <th>loan</th>\n",
       "      <th>contact</th>\n",
       "      <th>month</th>\n",
       "      <th>poutcome</th>\n",
       "      <th>y</th>\n",
       "    </tr>\n",
       "  </thead>\n",
       "  <tbody>\n",
       "    <tr>\n",
       "      <th>count</th>\n",
       "      <td>45211</td>\n",
       "      <td>45211</td>\n",
       "      <td>45211</td>\n",
       "      <td>45211</td>\n",
       "      <td>45211</td>\n",
       "      <td>45211</td>\n",
       "      <td>45211</td>\n",
       "      <td>45211</td>\n",
       "      <td>45211</td>\n",
       "      <td>45211</td>\n",
       "    </tr>\n",
       "    <tr>\n",
       "      <th>unique</th>\n",
       "      <td>12</td>\n",
       "      <td>3</td>\n",
       "      <td>4</td>\n",
       "      <td>2</td>\n",
       "      <td>2</td>\n",
       "      <td>2</td>\n",
       "      <td>3</td>\n",
       "      <td>12</td>\n",
       "      <td>4</td>\n",
       "      <td>2</td>\n",
       "    </tr>\n",
       "    <tr>\n",
       "      <th>top</th>\n",
       "      <td>blue-collar</td>\n",
       "      <td>married</td>\n",
       "      <td>secondary</td>\n",
       "      <td>no</td>\n",
       "      <td>yes</td>\n",
       "      <td>no</td>\n",
       "      <td>cellular</td>\n",
       "      <td>may</td>\n",
       "      <td>unknown</td>\n",
       "      <td>no</td>\n",
       "    </tr>\n",
       "    <tr>\n",
       "      <th>freq</th>\n",
       "      <td>9732</td>\n",
       "      <td>27214</td>\n",
       "      <td>23202</td>\n",
       "      <td>44396</td>\n",
       "      <td>25130</td>\n",
       "      <td>37967</td>\n",
       "      <td>29285</td>\n",
       "      <td>13766</td>\n",
       "      <td>36959</td>\n",
       "      <td>39922</td>\n",
       "    </tr>\n",
       "  </tbody>\n",
       "</table>\n",
       "</div>"
      ],
      "text/plain": [
       "                job  marital  education default housing   loan   contact  \\\n",
       "count         45211    45211      45211   45211   45211  45211     45211   \n",
       "unique           12        3          4       2       2      2         3   \n",
       "top     blue-collar  married  secondary      no     yes     no  cellular   \n",
       "freq           9732    27214      23202   44396   25130  37967     29285   \n",
       "\n",
       "        month poutcome      y  \n",
       "count   45211    45211  45211  \n",
       "unique     12        4      2  \n",
       "top       may  unknown     no  \n",
       "freq    13766    36959  39922  "
      ]
     },
     "execution_count": 6,
     "metadata": {},
     "output_type": "execute_result"
    }
   ],
   "source": [
    "data.describe(include='O')"
   ]
  },
  {
   "cell_type": "code",
   "execution_count": 7,
   "id": "42eeaa96",
   "metadata": {},
   "outputs": [
    {
     "data": {
      "text/plain": [
       "no     39922\n",
       "yes     5289\n",
       "Name: y, dtype: int64"
      ]
     },
     "execution_count": 7,
     "metadata": {},
     "output_type": "execute_result"
    }
   ],
   "source": [
    "data['y'].value_counts()"
   ]
  },
  {
   "cell_type": "markdown",
   "id": "d0a50e13",
   "metadata": {},
   "source": [
    "Insight yang kita dapatkan dari informasi di atas adalah:\n",
    "1. Marital status tertinggi adalah married (sudah menikah)\n",
    "2. Sebagian besar client mempunyai pinjaman rumah maupun pinjaman pribadi\n",
    "3. Hasil campaign menunjukkan bahwa sebanyak 39922 orang yang telah dihubungi tidak berlangganan deposit. Sedangkan, Client yang berlangganan deposit berjumlah 5289. Disini terdapat perbedaan yang cukup besar dimana distribusi terget tidak seimbang. Hal ini dapat menyebabkan misleading atau mesin mengambil keputusan yang salah\n",
    "5. Kita perlu melakukan treatment khusus untuk mengatasi hal tersebut"
   ]
  },
  {
   "cell_type": "markdown",
   "id": "a4b1c075",
   "metadata": {},
   "source": [
    "#### EDA Numeric Type"
   ]
  },
  {
   "cell_type": "code",
   "execution_count": 8,
   "id": "46115d31",
   "metadata": {},
   "outputs": [
    {
     "data": {
      "text/html": [
       "<div>\n",
       "<style scoped>\n",
       "    .dataframe tbody tr th:only-of-type {\n",
       "        vertical-align: middle;\n",
       "    }\n",
       "\n",
       "    .dataframe tbody tr th {\n",
       "        vertical-align: top;\n",
       "    }\n",
       "\n",
       "    .dataframe thead th {\n",
       "        text-align: right;\n",
       "    }\n",
       "</style>\n",
       "<table border=\"1\" class=\"dataframe\">\n",
       "  <thead>\n",
       "    <tr style=\"text-align: right;\">\n",
       "      <th></th>\n",
       "      <th>age</th>\n",
       "      <th>balance</th>\n",
       "      <th>day</th>\n",
       "      <th>duration</th>\n",
       "      <th>campaign</th>\n",
       "      <th>pdays</th>\n",
       "      <th>previous</th>\n",
       "    </tr>\n",
       "  </thead>\n",
       "  <tbody>\n",
       "    <tr>\n",
       "      <th>count</th>\n",
       "      <td>45211.000000</td>\n",
       "      <td>45211.000000</td>\n",
       "      <td>45211.000000</td>\n",
       "      <td>45211.000000</td>\n",
       "      <td>45211.000000</td>\n",
       "      <td>45211.000000</td>\n",
       "      <td>45211.000000</td>\n",
       "    </tr>\n",
       "    <tr>\n",
       "      <th>mean</th>\n",
       "      <td>40.936210</td>\n",
       "      <td>1362.272058</td>\n",
       "      <td>15.806419</td>\n",
       "      <td>258.163080</td>\n",
       "      <td>2.763841</td>\n",
       "      <td>40.197828</td>\n",
       "      <td>0.580323</td>\n",
       "    </tr>\n",
       "    <tr>\n",
       "      <th>std</th>\n",
       "      <td>10.618762</td>\n",
       "      <td>3044.765829</td>\n",
       "      <td>8.322476</td>\n",
       "      <td>257.527812</td>\n",
       "      <td>3.098021</td>\n",
       "      <td>100.128746</td>\n",
       "      <td>2.303441</td>\n",
       "    </tr>\n",
       "    <tr>\n",
       "      <th>min</th>\n",
       "      <td>18.000000</td>\n",
       "      <td>-8019.000000</td>\n",
       "      <td>1.000000</td>\n",
       "      <td>0.000000</td>\n",
       "      <td>1.000000</td>\n",
       "      <td>-1.000000</td>\n",
       "      <td>0.000000</td>\n",
       "    </tr>\n",
       "    <tr>\n",
       "      <th>25%</th>\n",
       "      <td>33.000000</td>\n",
       "      <td>72.000000</td>\n",
       "      <td>8.000000</td>\n",
       "      <td>103.000000</td>\n",
       "      <td>1.000000</td>\n",
       "      <td>-1.000000</td>\n",
       "      <td>0.000000</td>\n",
       "    </tr>\n",
       "    <tr>\n",
       "      <th>50%</th>\n",
       "      <td>39.000000</td>\n",
       "      <td>448.000000</td>\n",
       "      <td>16.000000</td>\n",
       "      <td>180.000000</td>\n",
       "      <td>2.000000</td>\n",
       "      <td>-1.000000</td>\n",
       "      <td>0.000000</td>\n",
       "    </tr>\n",
       "    <tr>\n",
       "      <th>75%</th>\n",
       "      <td>48.000000</td>\n",
       "      <td>1428.000000</td>\n",
       "      <td>21.000000</td>\n",
       "      <td>319.000000</td>\n",
       "      <td>3.000000</td>\n",
       "      <td>-1.000000</td>\n",
       "      <td>0.000000</td>\n",
       "    </tr>\n",
       "    <tr>\n",
       "      <th>max</th>\n",
       "      <td>95.000000</td>\n",
       "      <td>102127.000000</td>\n",
       "      <td>31.000000</td>\n",
       "      <td>4918.000000</td>\n",
       "      <td>63.000000</td>\n",
       "      <td>871.000000</td>\n",
       "      <td>275.000000</td>\n",
       "    </tr>\n",
       "  </tbody>\n",
       "</table>\n",
       "</div>"
      ],
      "text/plain": [
       "                age        balance           day      duration      campaign  \\\n",
       "count  45211.000000   45211.000000  45211.000000  45211.000000  45211.000000   \n",
       "mean      40.936210    1362.272058     15.806419    258.163080      2.763841   \n",
       "std       10.618762    3044.765829      8.322476    257.527812      3.098021   \n",
       "min       18.000000   -8019.000000      1.000000      0.000000      1.000000   \n",
       "25%       33.000000      72.000000      8.000000    103.000000      1.000000   \n",
       "50%       39.000000     448.000000     16.000000    180.000000      2.000000   \n",
       "75%       48.000000    1428.000000     21.000000    319.000000      3.000000   \n",
       "max       95.000000  102127.000000     31.000000   4918.000000     63.000000   \n",
       "\n",
       "              pdays      previous  \n",
       "count  45211.000000  45211.000000  \n",
       "mean      40.197828      0.580323  \n",
       "std      100.128746      2.303441  \n",
       "min       -1.000000      0.000000  \n",
       "25%       -1.000000      0.000000  \n",
       "50%       -1.000000      0.000000  \n",
       "75%       -1.000000      0.000000  \n",
       "max      871.000000    275.000000  "
      ]
     },
     "execution_count": 8,
     "metadata": {},
     "output_type": "execute_result"
    }
   ],
   "source": [
    "data.describe()"
   ]
  },
  {
   "cell_type": "markdown",
   "id": "1551a2be",
   "metadata": {},
   "source": [
    "Insight yang kita dapatkan dari informasi di atas adalah:\n",
    "1. Kolom Balance memiliki nilai terkecil -8019. Disini perlu diselidiki terlebih dahulu apakah dimungkinkan rata-rata tabungan per tahun dapat bernilai negatif. Ternyata dimungkinkan balance seseorang bernilai negatif (defisit).\n",
    "2. Beberapa kolom masih terdapat outliers yang mungkin dapat menjadikan analisi menjadi bias sehingga perlu dibersihkan.\n",
    "3. Feature pdays dan previous tidak akan dipakai dalam analisis ini karena dapat dilihat terdapat range yang memiliki nilai yang cukup jauh."
   ]
  },
  {
   "cell_type": "markdown",
   "id": "1c3c06ff",
   "metadata": {},
   "source": [
    "### Data Cleansing and Manipulation"
   ]
  },
  {
   "cell_type": "markdown",
   "id": "697b32c5",
   "metadata": {},
   "source": [
    "#### Mencari dan menghapus Missing Value"
   ]
  },
  {
   "cell_type": "code",
   "execution_count": 9,
   "id": "a30e19e7",
   "metadata": {},
   "outputs": [
    {
     "data": {
      "text/plain": [
       "age          0\n",
       "job          0\n",
       "marital      0\n",
       "education    0\n",
       "default      0\n",
       "balance      0\n",
       "housing      0\n",
       "loan         0\n",
       "contact      0\n",
       "day          0\n",
       "month        0\n",
       "duration     0\n",
       "campaign     0\n",
       "pdays        0\n",
       "previous     0\n",
       "poutcome     0\n",
       "y            0\n",
       "dtype: int64"
      ]
     },
     "execution_count": 9,
     "metadata": {},
     "output_type": "execute_result"
    }
   ],
   "source": [
    "data.isnull().sum()"
   ]
  },
  {
   "cell_type": "markdown",
   "id": "379297ef",
   "metadata": {},
   "source": [
    "Tidak terdapat adanya missing value di dalam dataset, sehingga dapat dilanjutkan ke tahap berikutnya"
   ]
  },
  {
   "cell_type": "markdown",
   "id": "3bb238e5",
   "metadata": {},
   "source": [
    "#### Menghapus Features pdays dan previous"
   ]
  },
  {
   "cell_type": "code",
   "execution_count": 139,
   "id": "a5223aaf",
   "metadata": {},
   "outputs": [],
   "source": [
    "data.drop(['pdays','previous'], axis=1, inplace=True)"
   ]
  },
  {
   "cell_type": "markdown",
   "id": "5ba7f0a2",
   "metadata": {},
   "source": [
    "#### Mencari dan Menghapus Outliers"
   ]
  },
  {
   "cell_type": "code",
   "execution_count": 10,
   "id": "4765d7d7",
   "metadata": {},
   "outputs": [
    {
     "data": {
      "text/plain": [
       "False    44724\n",
       "True       487\n",
       "Name: age, dtype: int64"
      ]
     },
     "execution_count": 10,
     "metadata": {},
     "output_type": "execute_result"
    }
   ],
   "source": [
    "Q1 = data['age'].quantile(0.25)\n",
    "Q3 = data['age'].quantile(0.75)\n",
    "IQR = Q3 - Q1\n",
    "out_age = (data['age'] < (Q1 - 1.5 * IQR)) | (data['age'] > (Q3 + 1.5 * IQR))\n",
    "out_age.value_counts()"
   ]
  },
  {
   "cell_type": "code",
   "execution_count": 11,
   "id": "87613916",
   "metadata": {},
   "outputs": [
    {
     "data": {
      "image/png": "[encoded data removed]",
      "text/plain": [
       "<Figure size 432x288 with 1 Axes>"
      ]
     },
     "metadata": {},
     "output_type": "display_data"
    }
   ],
   "source": [
    "plt.boxplot(data['age']);"
   ]
  },
  {
   "cell_type": "code",
   "execution_count": 12,
   "id": "b4e17029",
   "metadata": {},
   "outputs": [
    {
     "data": {
      "text/plain": [
       "False    42147\n",
       "True      3064\n",
       "Name: campaign, dtype: int64"
      ]
     },
     "execution_count": 12,
     "metadata": {},
     "output_type": "execute_result"
    }
   ],
   "source": [
    "Q1 = data['campaign'].quantile(0.25)\n",
    "Q3 = data['campaign'].quantile(0.75)\n",
    "IQR = Q3 - Q1\n",
    "out_camp = (data['campaign'] < (Q1 - 1.5 * IQR)) | (data['campaign'] > (Q3 + 1.5 * IQR))\n",
    "out_camp.value_counts()"
   ]
  },
  {
   "cell_type": "code",
   "execution_count": 13,
   "id": "410fbf32",
   "metadata": {},
   "outputs": [
    {
     "data": {
      "image/png": "[encoded data removed]",
      "text/plain": [
       "<Figure size 432x288 with 1 Axes>"
      ]
     },
     "metadata": {},
     "output_type": "display_data"
    }
   ],
   "source": [
    "plt.boxplot(data['campaign']);"
   ]
  },
  {
   "cell_type": "code",
   "execution_count": 14,
   "id": "21c1cb97",
   "metadata": {},
   "outputs": [
    {
     "data": {
      "text/plain": [
       "False    40482\n",
       "True      4729\n",
       "Name: balance, dtype: int64"
      ]
     },
     "execution_count": 14,
     "metadata": {},
     "output_type": "execute_result"
    }
   ],
   "source": [
    "Q1 = data['balance'].quantile(0.25)\n",
    "Q3 = data['balance'].quantile(0.75)\n",
    "IQR = Q3 - Q1\n",
    "out_bal = (data['balance'] < (Q1 - 1.5 * IQR)) | (data['balance'] > (Q3 + 1.5 * IQR))\n",
    "out_bal.value_counts()"
   ]
  },
  {
   "cell_type": "code",
   "execution_count": 15,
   "id": "05cd679f",
   "metadata": {},
   "outputs": [
    {
     "data": {
      "image/png": "[encoded data removed]",
      "text/plain": [
       "<Figure size 432x288 with 1 Axes>"
      ]
     },
     "metadata": {},
     "output_type": "display_data"
    }
   ],
   "source": [
    "plt.boxplot(data['balance']);"
   ]
  },
  {
   "cell_type": "code",
   "execution_count": 16,
   "id": "2143e959",
   "metadata": {},
   "outputs": [
    {
     "data": {
      "text/plain": [
       "False    45211\n",
       "Name: day, dtype: int64"
      ]
     },
     "execution_count": 16,
     "metadata": {},
     "output_type": "execute_result"
    }
   ],
   "source": [
    "Q1 = data['day'].quantile(0.25)\n",
    "Q3 = data['day'].quantile(0.75)\n",
    "IQR = Q3 - Q1\n",
    "out_day = (data['day'] < (Q1 - 1.5 * IQR)) | (data['day'] > (Q3 + 1.5 * IQR))\n",
    "out_day.value_counts()"
   ]
  },
  {
   "cell_type": "code",
   "execution_count": 17,
   "id": "37195e41",
   "metadata": {},
   "outputs": [
    {
     "data": {
      "image/png": "[encoded data removed]",
      "text/plain": [
       "<Figure size 432x288 with 1 Axes>"
      ]
     },
     "metadata": {},
     "output_type": "display_data"
    }
   ],
   "source": [
    "plt.boxplot(data['day']);"
   ]
  },
  {
   "cell_type": "code",
   "execution_count": 18,
   "id": "f0abf106",
   "metadata": {},
   "outputs": [
    {
     "data": {
      "text/plain": [
       "False    41976\n",
       "True      3235\n",
       "Name: duration, dtype: int64"
      ]
     },
     "execution_count": 18,
     "metadata": {},
     "output_type": "execute_result"
    }
   ],
   "source": [
    "Q1 = data['duration'].quantile(0.25)\n",
    "Q3 = data['duration'].quantile(0.75)\n",
    "IQR = Q3 - Q1\n",
    "out_dur = (data['duration'] < (Q1 - 1.5 * IQR)) | (data['duration'] > (Q3 + 1.5 * IQR))\n",
    "out_dur.value_counts()"
   ]
  },
  {
   "cell_type": "code",
   "execution_count": 19,
   "id": "21ae507d",
   "metadata": {},
   "outputs": [
    {
     "data": {
      "image/png": "[encoded data removed]",
      "text/plain": [
       "<Figure size 432x288 with 1 Axes>"
      ]
     },
     "metadata": {},
     "output_type": "display_data"
    }
   ],
   "source": [
    "plt.boxplot(data['duration']);"
   ]
  },
  {
   "cell_type": "markdown",
   "id": "1cadd071",
   "metadata": {},
   "source": [
    "Berdasarkan grafik Boxplot diatas feature age, campaign, balance, dan duration memiliki banyak outliers sehingga perlu kita atasi terlebih dahulu."
   ]
  },
  {
   "cell_type": "markdown",
   "id": "1b9562c6",
   "metadata": {},
   "source": [
    "### Handling Outliers"
   ]
  },
  {
   "cell_type": "markdown",
   "id": "a8f33e40",
   "metadata": {},
   "source": [
    "#### Definisikan Fungsi remove_outlier"
   ]
  },
  {
   "cell_type": "code",
   "execution_count": 20,
   "id": "58cc38d7",
   "metadata": {},
   "outputs": [],
   "source": [
    "def remove_outlier(col):\n",
    "    sorted(col)\n",
    "    Q1, Q3 = col.quantile([0.25, 0.75])\n",
    "    IQR = Q3 - Q1\n",
    "    lower_range = Q1 - (1.5 * IQR)\n",
    "    upper_range = Q3 + (1.5 * IQR)\n",
    "    return lower_range, upper_range"
   ]
  },
  {
   "cell_type": "markdown",
   "id": "a2d9b3ab",
   "metadata": {},
   "source": [
    "#### Menghapus Outlier Feature Age"
   ]
  },
  {
   "cell_type": "code",
   "execution_count": 21,
   "id": "802fcf5a",
   "metadata": {},
   "outputs": [],
   "source": [
    "LowAge, UpperAge = remove_outlier(data['age'])"
   ]
  },
  {
   "cell_type": "code",
   "execution_count": 22,
   "id": "a82ff9c4",
   "metadata": {},
   "outputs": [],
   "source": [
    "data['age'] = np.where(data['age']>UpperAge, UpperAge, data['age'])\n",
    "data['age'] = np.where(data['age']<LowAge, LowAge, data['age'])"
   ]
  },
  {
   "cell_type": "code",
   "execution_count": 23,
   "id": "e9803291",
   "metadata": {},
   "outputs": [
    {
     "data": {
      "image/png": "[encoded data removed]",
      "text/plain": [
       "<Figure size 432x288 with 1 Axes>"
      ]
     },
     "metadata": {},
     "output_type": "display_data"
    }
   ],
   "source": [
    "data.boxplot('age');"
   ]
  },
  {
   "cell_type": "markdown",
   "id": "370a3412",
   "metadata": {},
   "source": [
    "#### Menghapus Outlier Feature Campaign"
   ]
  },
  {
   "cell_type": "code",
   "execution_count": 24,
   "id": "69a0b2d6",
   "metadata": {},
   "outputs": [],
   "source": [
    "LowCam, UpperCam = remove_outlier(data['campaign'])"
   ]
  },
  {
   "cell_type": "code",
   "execution_count": 25,
   "id": "e3cfd390",
   "metadata": {},
   "outputs": [],
   "source": [
    "data['campaign'] = np.where(data['campaign']>UpperCam, UpperCam, data['campaign'])\n",
    "data['campaign'] = np.where(data['campaign']<LowCam, LowCam, data['campaign'])"
   ]
  },
  {
   "cell_type": "code",
   "execution_count": 26,
   "id": "48594c5c",
   "metadata": {},
   "outputs": [
    {
     "data": {
      "image/png": "[encoded data removed]",
      "text/plain": [
       "<Figure size 432x288 with 1 Axes>"
      ]
     },
     "metadata": {},
     "output_type": "display_data"
    }
   ],
   "source": [
    "data.boxplot('campaign');"
   ]
  },
  {
   "cell_type": "markdown",
   "id": "4f1217bc",
   "metadata": {},
   "source": [
    "#### Menghapus Outlier Feature Balance"
   ]
  },
  {
   "cell_type": "code",
   "execution_count": 27,
   "id": "bdc90d46",
   "metadata": {},
   "outputs": [],
   "source": [
    "LowBal, UpperBal = remove_outlier(data['balance'])"
   ]
  },
  {
   "cell_type": "code",
   "execution_count": 28,
   "id": "4bd1534e",
   "metadata": {},
   "outputs": [],
   "source": [
    "data['balance'] = np.where(data['balance']>UpperBal, UpperBal, data['balance'])\n",
    "data['balance'] = np.where(data['balance']<LowBal, LowBal, data['balance'])"
   ]
  },
  {
   "cell_type": "code",
   "execution_count": 29,
   "id": "147ede60",
   "metadata": {},
   "outputs": [
    {
     "data": {
      "image/png": "[encoded data removed]",
      "text/plain": [
       "<Figure size 432x288 with 1 Axes>"
      ]
     },
     "metadata": {},
     "output_type": "display_data"
    }
   ],
   "source": [
    "data.boxplot('balance');"
   ]
  },
  {
   "cell_type": "markdown",
   "id": "6570d1f3",
   "metadata": {},
   "source": [
    "#### Menghapus Outlier Feature Day"
   ]
  },
  {
   "cell_type": "code",
   "execution_count": 30,
   "id": "b22567ee",
   "metadata": {},
   "outputs": [],
   "source": [
    "LowDay, UpperDay = remove_outlier(data['day'])"
   ]
  },
  {
   "cell_type": "code",
   "execution_count": 31,
   "id": "52bdc148",
   "metadata": {},
   "outputs": [],
   "source": [
    "data['day'] = np.where(data['day']>UpperDay, UpperDay, data['day'])\n",
    "data['day'] = np.where(data['day']<LowDay, LowDay, data['day'])"
   ]
  },
  {
   "cell_type": "code",
   "execution_count": 32,
   "id": "d366cc55",
   "metadata": {},
   "outputs": [
    {
     "data": {
      "image/png": "[encoded data removed]",
      "text/plain": [
       "<Figure size 432x288 with 1 Axes>"
      ]
     },
     "metadata": {},
     "output_type": "display_data"
    }
   ],
   "source": [
    "data.boxplot('day');"
   ]
  },
  {
   "cell_type": "markdown",
   "id": "57084b6d",
   "metadata": {},
   "source": [
    "#### Menghapus Outlier Feature Duration"
   ]
  },
  {
   "cell_type": "code",
   "execution_count": 33,
   "id": "58ca550a",
   "metadata": {},
   "outputs": [],
   "source": [
    "LowDur, UpperDur = remove_outlier(data['duration'])"
   ]
  },
  {
   "cell_type": "code",
   "execution_count": 34,
   "id": "f7b645d5",
   "metadata": {},
   "outputs": [],
   "source": [
    "data['duration'] = np.where(data['duration']>UpperDur, UpperDur, data['duration'])\n",
    "data['duration'] = np.where(data['duration']<LowDur, LowDur, data['duration'])"
   ]
  },
  {
   "cell_type": "code",
   "execution_count": 35,
   "id": "a5f319b8",
   "metadata": {
    "scrolled": true
   },
   "outputs": [
    {
     "data": {
      "image/png": "[encoded data removed]",
      "text/plain": [
       "<Figure size 432x288 with 1 Axes>"
      ]
     },
     "metadata": {},
     "output_type": "display_data"
    }
   ],
   "source": [
    "data.boxplot('duration');"
   ]
  },
  {
   "cell_type": "markdown",
   "id": "00e1964f",
   "metadata": {},
   "source": [
    "#### Aplikasikan"
   ]
  },
  {
   "cell_type": "code",
   "execution_count": 190,
   "id": "ff5c853c",
   "metadata": {},
   "outputs": [
    {
     "name": "stderr",
     "output_type": "stream",
     "text": [
      "C:\\Users\\USERID~1\\AppData\\Local\\Temp/ipykernel_8620/2573933357.py:7: FutureWarning: Automatic reindexing on DataFrame vs Series comparisons is deprecated and will raise ValueError in a future version.  Do `left, right = left.align(right, axis=1, copy=False)` before e.g. `left == right`\n",
      "  more_than = (data > maximum)\n",
      "C:\\Users\\USERID~1\\AppData\\Local\\Temp/ipykernel_8620/2573933357.py:8: FutureWarning: Automatic reindexing on DataFrame vs Series comparisons is deprecated and will raise ValueError in a future version.  Do `left, right = left.align(right, axis=1, copy=False)` before e.g. `left == right`\n",
      "  lower_than = (data < minimum)\n"
     ]
    },
    {
     "data": {
      "text/html": [
       "<div>\n",
       "<style scoped>\n",
       "    .dataframe tbody tr th:only-of-type {\n",
       "        vertical-align: middle;\n",
       "    }\n",
       "\n",
       "    .dataframe tbody tr th {\n",
       "        vertical-align: top;\n",
       "    }\n",
       "\n",
       "    .dataframe thead th {\n",
       "        text-align: right;\n",
       "    }\n",
       "</style>\n",
       "<table border=\"1\" class=\"dataframe\">\n",
       "  <thead>\n",
       "    <tr style=\"text-align: right;\">\n",
       "      <th></th>\n",
       "      <th>age</th>\n",
       "      <th>campaign</th>\n",
       "      <th>balance</th>\n",
       "      <th>day</th>\n",
       "      <th>duration</th>\n",
       "    </tr>\n",
       "  </thead>\n",
       "  <tbody>\n",
       "    <tr>\n",
       "      <th>count</th>\n",
       "      <td>45211.000000</td>\n",
       "      <td>45211.000000</td>\n",
       "      <td>45211.000000</td>\n",
       "      <td>45211.000000</td>\n",
       "      <td>45211.000000</td>\n",
       "    </tr>\n",
       "    <tr>\n",
       "      <th>mean</th>\n",
       "      <td>40.868185</td>\n",
       "      <td>2.392228</td>\n",
       "      <td>933.706974</td>\n",
       "      <td>15.806419</td>\n",
       "      <td>234.939307</td>\n",
       "    </tr>\n",
       "    <tr>\n",
       "      <th>std</th>\n",
       "      <td>10.394895</td>\n",
       "      <td>1.600111</td>\n",
       "      <td>1176.765369</td>\n",
       "      <td>8.322476</td>\n",
       "      <td>176.749932</td>\n",
       "    </tr>\n",
       "    <tr>\n",
       "      <th>min</th>\n",
       "      <td>18.000000</td>\n",
       "      <td>1.000000</td>\n",
       "      <td>-1962.000000</td>\n",
       "      <td>1.000000</td>\n",
       "      <td>0.000000</td>\n",
       "    </tr>\n",
       "    <tr>\n",
       "      <th>25%</th>\n",
       "      <td>33.000000</td>\n",
       "      <td>1.000000</td>\n",
       "      <td>72.000000</td>\n",
       "      <td>8.000000</td>\n",
       "      <td>103.000000</td>\n",
       "    </tr>\n",
       "    <tr>\n",
       "      <th>50%</th>\n",
       "      <td>39.000000</td>\n",
       "      <td>2.000000</td>\n",
       "      <td>448.000000</td>\n",
       "      <td>16.000000</td>\n",
       "      <td>180.000000</td>\n",
       "    </tr>\n",
       "    <tr>\n",
       "      <th>75%</th>\n",
       "      <td>48.000000</td>\n",
       "      <td>3.000000</td>\n",
       "      <td>1428.000000</td>\n",
       "      <td>21.000000</td>\n",
       "      <td>319.000000</td>\n",
       "    </tr>\n",
       "    <tr>\n",
       "      <th>max</th>\n",
       "      <td>70.500000</td>\n",
       "      <td>6.000000</td>\n",
       "      <td>3462.000000</td>\n",
       "      <td>31.000000</td>\n",
       "      <td>643.000000</td>\n",
       "    </tr>\n",
       "  </tbody>\n",
       "</table>\n",
       "</div>"
      ],
      "text/plain": [
       "                age      campaign       balance           day      duration\n",
       "count  45211.000000  45211.000000  45211.000000  45211.000000  45211.000000\n",
       "mean      40.868185      2.392228    933.706974     15.806419    234.939307\n",
       "std       10.394895      1.600111   1176.765369      8.322476    176.749932\n",
       "min       18.000000      1.000000  -1962.000000      1.000000      0.000000\n",
       "25%       33.000000      1.000000     72.000000      8.000000    103.000000\n",
       "50%       39.000000      2.000000    448.000000     16.000000    180.000000\n",
       "75%       48.000000      3.000000   1428.000000     21.000000    319.000000\n",
       "max       70.500000      6.000000   3462.000000     31.000000    643.000000"
      ]
     },
     "execution_count": 190,
     "metadata": {},
     "output_type": "execute_result"
    }
   ],
   "source": [
    "Q1 = (data[['age','campaign','balance','day','duration']]).quantile(0.25)\n",
    "Q3 = (data[['age','campaign','balance','day','duration']]).quantile(0.75)\n",
    "IQR = Q3 - Q1\n",
    "maximum = Q3 + (1.5 * IQR)\n",
    "minimum = Q1 - (1.5 * IQR)\n",
    "\n",
    "more_than = (data > maximum)\n",
    "lower_than = (data < minimum)\n",
    "\n",
    "data = data.mask(more_than, maximum, axis=1)\n",
    "data = data.mask(lower_than, minimum, axis=1)\n",
    "\n",
    "data[['age','campaign','balance','day','duration']].describe()"
   ]
  },
  {
   "cell_type": "markdown",
   "id": "dc8eb360",
   "metadata": {},
   "source": [
    "### Plotting"
   ]
  },
  {
   "cell_type": "code",
   "execution_count": 191,
   "id": "ee390e36",
   "metadata": {},
   "outputs": [
    {
     "data": {
      "image/png": "[encoded data removed]",
      "text/plain": [
       "<Figure size 2880x1080 with 6 Axes>"
      ]
     },
     "metadata": {},
     "output_type": "display_data"
    }
   ],
   "source": [
    "plt.figure(figsize=(40,15))\n",
    "\n",
    "plt.subplot(2,3,1)\n",
    "data['age'].hist(bins=20)\n",
    "\n",
    "plt.subplot(2,3,2)\n",
    "data['campaign'].hist(bins=20)\n",
    "\n",
    "plt.subplot(2,3,3)\n",
    "data['balance'].hist(bins=20)\n",
    "\n",
    "plt.subplot(2,3,4)\n",
    "data['day'].hist(bins=20)\n",
    "\n",
    "plt.subplot(2,3,5)\n",
    "data['duration'].hist(bins=20)\n",
    "\n",
    "plt.subplot(2,3,6)\n",
    "data['y'].hist()\n",
    "\n",
    "plt.tight_layout()\n",
    "plt.show()"
   ]
  },
  {
   "cell_type": "markdown",
   "id": "677abfef",
   "metadata": {},
   "source": [
    "### Correlation"
   ]
  },
  {
   "cell_type": "code",
   "execution_count": 45,
   "id": "69994165",
   "metadata": {},
   "outputs": [
    {
     "data": {
      "text/html": [
       "<div>\n",
       "<style scoped>\n",
       "    .dataframe tbody tr th:only-of-type {\n",
       "        vertical-align: middle;\n",
       "    }\n",
       "\n",
       "    .dataframe tbody tr th {\n",
       "        vertical-align: top;\n",
       "    }\n",
       "\n",
       "    .dataframe thead th {\n",
       "        text-align: right;\n",
       "    }\n",
       "</style>\n",
       "<table border=\"1\" class=\"dataframe\">\n",
       "  <thead>\n",
       "    <tr style=\"text-align: right;\">\n",
       "      <th></th>\n",
       "      <th>age</th>\n",
       "      <th>balance</th>\n",
       "      <th>day</th>\n",
       "      <th>duration</th>\n",
       "      <th>campaign</th>\n",
       "    </tr>\n",
       "  </thead>\n",
       "  <tbody>\n",
       "    <tr>\n",
       "      <th>age</th>\n",
       "      <td>1.000000</td>\n",
       "      <td>0.121527</td>\n",
       "      <td>-0.008843</td>\n",
       "      <td>-0.014287</td>\n",
       "      <td>0.025791</td>\n",
       "    </tr>\n",
       "    <tr>\n",
       "      <th>balance</th>\n",
       "      <td>0.121527</td>\n",
       "      <td>1.000000</td>\n",
       "      <td>0.009971</td>\n",
       "      <td>0.041942</td>\n",
       "      <td>-0.026531</td>\n",
       "    </tr>\n",
       "    <tr>\n",
       "      <th>day</th>\n",
       "      <td>-0.008843</td>\n",
       "      <td>0.009971</td>\n",
       "      <td>1.000000</td>\n",
       "      <td>-0.039285</td>\n",
       "      <td>0.152975</td>\n",
       "    </tr>\n",
       "    <tr>\n",
       "      <th>duration</th>\n",
       "      <td>-0.014287</td>\n",
       "      <td>0.041942</td>\n",
       "      <td>-0.039285</td>\n",
       "      <td>1.000000</td>\n",
       "      <td>-0.100049</td>\n",
       "    </tr>\n",
       "    <tr>\n",
       "      <th>campaign</th>\n",
       "      <td>0.025791</td>\n",
       "      <td>-0.026531</td>\n",
       "      <td>0.152975</td>\n",
       "      <td>-0.100049</td>\n",
       "      <td>1.000000</td>\n",
       "    </tr>\n",
       "  </tbody>\n",
       "</table>\n",
       "</div>"
      ],
      "text/plain": [
       "               age   balance       day  duration  campaign\n",
       "age       1.000000  0.121527 -0.008843 -0.014287  0.025791\n",
       "balance   0.121527  1.000000  0.009971  0.041942 -0.026531\n",
       "day      -0.008843  0.009971  1.000000 -0.039285  0.152975\n",
       "duration -0.014287  0.041942 -0.039285  1.000000 -0.100049\n",
       "campaign  0.025791 -0.026531  0.152975 -0.100049  1.000000"
      ]
     },
     "execution_count": 45,
     "metadata": {},
     "output_type": "execute_result"
    }
   ],
   "source": [
    "data_corr = data.corr()\n",
    "data_corr"
   ]
  },
  {
   "cell_type": "code",
   "execution_count": 189,
   "id": "e5bd7b63",
   "metadata": {},
   "outputs": [
    {
     "data": {
      "image/png": "[encoded data removed]",
      "text/plain": [
       "<Figure size 3200x1200 with 2 Axes>"
      ]
     },
     "metadata": {},
     "output_type": "display_data"
    }
   ],
   "source": [
    "plt.figure(figsize=(16,6), dpi=200)\n",
    "sns.heatmap(data_corr, annot=True, cmap='Reds', linewidth=1, linecolor='white');"
   ]
  },
  {
   "cell_type": "markdown",
   "id": "498a34b6",
   "metadata": {},
   "source": [
    "### Data Preprocessing"
   ]
  },
  {
   "cell_type": "markdown",
   "id": "42b6116c",
   "metadata": {},
   "source": [
    "#### Import Module"
   ]
  },
  {
   "cell_type": "code",
   "execution_count": 62,
   "id": "c592845b",
   "metadata": {},
   "outputs": [],
   "source": [
    "from sklearn.preprocessing import MinMaxScaler, LabelEncoder\n",
    "scaler = MinMaxScaler()\n",
    "import numpy as np"
   ]
  },
  {
   "cell_type": "markdown",
   "id": "d2aec94f",
   "metadata": {},
   "source": [
    "#### Scaling - MinMaxScaler"
   ]
  },
  {
   "cell_type": "code",
   "execution_count": 80,
   "id": "f94934e4",
   "metadata": {},
   "outputs": [
    {
     "data": {
      "text/html": [
       "<div>\n",
       "<style scoped>\n",
       "    .dataframe tbody tr th:only-of-type {\n",
       "        vertical-align: middle;\n",
       "    }\n",
       "\n",
       "    .dataframe tbody tr th {\n",
       "        vertical-align: top;\n",
       "    }\n",
       "\n",
       "    .dataframe thead th {\n",
       "        text-align: right;\n",
       "    }\n",
       "</style>\n",
       "<table border=\"1\" class=\"dataframe\">\n",
       "  <thead>\n",
       "    <tr style=\"text-align: right;\">\n",
       "      <th></th>\n",
       "      <th>min</th>\n",
       "      <th>max</th>\n",
       "    </tr>\n",
       "  </thead>\n",
       "  <tbody>\n",
       "    <tr>\n",
       "      <th>age</th>\n",
       "      <td>0.0</td>\n",
       "      <td>1.0</td>\n",
       "    </tr>\n",
       "    <tr>\n",
       "      <th>campaign</th>\n",
       "      <td>0.0</td>\n",
       "      <td>1.0</td>\n",
       "    </tr>\n",
       "    <tr>\n",
       "      <th>balance</th>\n",
       "      <td>0.0</td>\n",
       "      <td>1.0</td>\n",
       "    </tr>\n",
       "    <tr>\n",
       "      <th>day</th>\n",
       "      <td>0.0</td>\n",
       "      <td>1.0</td>\n",
       "    </tr>\n",
       "    <tr>\n",
       "      <th>duration</th>\n",
       "      <td>0.0</td>\n",
       "      <td>1.0</td>\n",
       "    </tr>\n",
       "  </tbody>\n",
       "</table>\n",
       "</div>"
      ],
      "text/plain": [
       "          min  max\n",
       "age       0.0  1.0\n",
       "campaign  0.0  1.0\n",
       "balance   0.0  1.0\n",
       "day       0.0  1.0\n",
       "duration  0.0  1.0"
      ]
     },
     "execution_count": 80,
     "metadata": {},
     "output_type": "execute_result"
    }
   ],
   "source": [
    "scaling_columns = ['age','campaign','balance','day','duration']\n",
    "data[scaling_columns] = scaler.fit_transform(data[scaling_columns])\n",
    "data[scaling_columns].describe().T[['min','max']]"
   ]
  },
  {
   "cell_type": "markdown",
   "id": "0b8372f5",
   "metadata": {},
   "source": [
    "Scaling dilakukan agar semua feature memiliki rentang nilai yang sama sehingga tidak ada feature yang mendominasi proses training model"
   ]
  },
  {
   "cell_type": "markdown",
   "id": "ff5e0046",
   "metadata": {},
   "source": [
    "#### Konversi String ke Numerik - LabelEncoder"
   ]
  },
  {
   "cell_type": "markdown",
   "id": "a60c60ab",
   "metadata": {},
   "source": [
    "Algoritma Machine Learning bekerja dengan menggunakan nilai numeric, maka kita perlu mengubah kolom bertipe object atau atr ke tipe data numeric. Untuk itulah LabelEncoder digunakan."
   ]
  },
  {
   "cell_type": "code",
   "execution_count": 144,
   "id": "de7b3422",
   "metadata": {},
   "outputs": [],
   "source": [
    "le = LabelEncoder()"
   ]
  },
  {
   "cell_type": "markdown",
   "id": "35198a36",
   "metadata": {},
   "source": [
    "#### Feature Job"
   ]
  },
  {
   "cell_type": "code",
   "execution_count": 145,
   "id": "6009beba",
   "metadata": {},
   "outputs": [
    {
     "data": {
      "text/plain": [
       "array(['admin.', 'blue-collar', 'entrepreneur', 'housemaid', 'management',\n",
       "       'retired', 'self-employed', 'services', 'student', 'technician',\n",
       "       'unemployed', 'unknown'], dtype=object)"
      ]
     },
     "execution_count": 145,
     "metadata": {},
     "output_type": "execute_result"
    }
   ],
   "source": [
    "data['job'] = le.fit_transform(data['job'])\n",
    "le.classes_"
   ]
  },
  {
   "cell_type": "code",
   "execution_count": 146,
   "id": "ed5d85f7",
   "metadata": {},
   "outputs": [
    {
     "data": {
      "text/plain": [
       "array([ 0,  1,  2,  3,  4,  5,  6,  7,  8,  9, 10, 11])"
      ]
     },
     "execution_count": 146,
     "metadata": {},
     "output_type": "execute_result"
    }
   ],
   "source": [
    "np.sort(data['job'].unique())"
   ]
  },
  {
   "cell_type": "markdown",
   "id": "b814962d",
   "metadata": {},
   "source": [
    "1. admin : 0\n",
    "2. blue-collar : 1\n",
    "3. entrepreneur : 2\n",
    "4. housemaid : 3\n",
    "5. management : 4\n",
    "6. retired : 5\n",
    "7. self-employed : 6\n",
    "8. services : 7\n",
    "9. student : 8\n",
    "10. technician : 9\n",
    "11. unemployed : 10\n",
    "12. unknown : 11"
   ]
  },
  {
   "cell_type": "markdown",
   "id": "539bccb9",
   "metadata": {},
   "source": [
    "#### Feature Marital"
   ]
  },
  {
   "cell_type": "code",
   "execution_count": 147,
   "id": "1d5b9fa4",
   "metadata": {},
   "outputs": [
    {
     "data": {
      "text/plain": [
       "array(['divorced', 'married', 'single'], dtype=object)"
      ]
     },
     "execution_count": 147,
     "metadata": {},
     "output_type": "execute_result"
    }
   ],
   "source": [
    "data['marital'] = le.fit_transform(data['marital'])\n",
    "le.classes_"
   ]
  },
  {
   "cell_type": "code",
   "execution_count": 148,
   "id": "83bea71a",
   "metadata": {},
   "outputs": [
    {
     "data": {
      "text/plain": [
       "array([0, 1, 2])"
      ]
     },
     "execution_count": 148,
     "metadata": {},
     "output_type": "execute_result"
    }
   ],
   "source": [
    "np.sort(data['marital'].unique())"
   ]
  },
  {
   "cell_type": "markdown",
   "id": "8df5b12e",
   "metadata": {},
   "source": [
    "1. divorced : 0\n",
    "2. married : 1\n",
    "3. single : 2"
   ]
  },
  {
   "cell_type": "markdown",
   "id": "1c2cba4a",
   "metadata": {},
   "source": [
    "#### Feature Education"
   ]
  },
  {
   "cell_type": "code",
   "execution_count": 149,
   "id": "4fc75b33",
   "metadata": {},
   "outputs": [
    {
     "data": {
      "text/plain": [
       "array(['primary', 'secondary', 'tertiary', 'unknown'], dtype=object)"
      ]
     },
     "execution_count": 149,
     "metadata": {},
     "output_type": "execute_result"
    }
   ],
   "source": [
    "data['education'] = le.fit_transform(data['education'])\n",
    "le.classes_"
   ]
  },
  {
   "cell_type": "code",
   "execution_count": 150,
   "id": "130c46f9",
   "metadata": {},
   "outputs": [
    {
     "data": {
      "text/plain": [
       "array([0, 1, 2, 3])"
      ]
     },
     "execution_count": 150,
     "metadata": {},
     "output_type": "execute_result"
    }
   ],
   "source": [
    "np.sort(data['education'].unique())"
   ]
  },
  {
   "cell_type": "markdown",
   "id": "03961f47",
   "metadata": {},
   "source": [
    "1. primary : 0\n",
    "2. secondary : 1\n",
    "3. tertiary : 2\n",
    "4. unknown : 3"
   ]
  },
  {
   "cell_type": "markdown",
   "id": "06320fab",
   "metadata": {},
   "source": [
    "#### Feature Default"
   ]
  },
  {
   "cell_type": "code",
   "execution_count": 140,
   "id": "d74353ee",
   "metadata": {},
   "outputs": [
    {
     "data": {
      "text/plain": [
       "array(['no', 'yes'], dtype=object)"
      ]
     },
     "execution_count": 140,
     "metadata": {},
     "output_type": "execute_result"
    }
   ],
   "source": [
    "data['default'] = le.fit_transform(data['default'])\n",
    "le.classes_"
   ]
  },
  {
   "cell_type": "code",
   "execution_count": 141,
   "id": "c53db1a9",
   "metadata": {},
   "outputs": [
    {
     "data": {
      "text/plain": [
       "array([0, 1])"
      ]
     },
     "execution_count": 141,
     "metadata": {},
     "output_type": "execute_result"
    }
   ],
   "source": [
    "np.sort(data['default'].unique())"
   ]
  },
  {
   "cell_type": "markdown",
   "id": "fb21057c",
   "metadata": {},
   "source": [
    "1. no : 0\n",
    "2. yes : 1"
   ]
  },
  {
   "cell_type": "markdown",
   "id": "cf8feb04",
   "metadata": {},
   "source": [
    "#### Feature Housing"
   ]
  },
  {
   "cell_type": "code",
   "execution_count": 151,
   "id": "a02c165e",
   "metadata": {},
   "outputs": [
    {
     "data": {
      "text/plain": [
       "array(['no', 'yes'], dtype=object)"
      ]
     },
     "execution_count": 151,
     "metadata": {},
     "output_type": "execute_result"
    }
   ],
   "source": [
    "data['housing'] = le.fit_transform(data['housing'])\n",
    "le.classes_"
   ]
  },
  {
   "cell_type": "code",
   "execution_count": 152,
   "id": "258b841e",
   "metadata": {},
   "outputs": [
    {
     "data": {
      "text/plain": [
       "array([0, 1])"
      ]
     },
     "execution_count": 152,
     "metadata": {},
     "output_type": "execute_result"
    }
   ],
   "source": [
    "np.sort(data['housing'].unique())"
   ]
  },
  {
   "cell_type": "markdown",
   "id": "2c2f038e",
   "metadata": {},
   "source": [
    "1. no : 0\n",
    "2. yes : 1"
   ]
  },
  {
   "cell_type": "markdown",
   "id": "8acc8a6b",
   "metadata": {},
   "source": [
    "#### Feature Loan"
   ]
  },
  {
   "cell_type": "code",
   "execution_count": 153,
   "id": "7fb1ccfe",
   "metadata": {},
   "outputs": [
    {
     "data": {
      "text/plain": [
       "array(['no', 'yes'], dtype=object)"
      ]
     },
     "execution_count": 153,
     "metadata": {},
     "output_type": "execute_result"
    }
   ],
   "source": [
    "data['loan'] = le.fit_transform(data['loan'])\n",
    "le.classes_"
   ]
  },
  {
   "cell_type": "code",
   "execution_count": 154,
   "id": "555b69fa",
   "metadata": {},
   "outputs": [
    {
     "data": {
      "text/plain": [
       "array([0, 1])"
      ]
     },
     "execution_count": 154,
     "metadata": {},
     "output_type": "execute_result"
    }
   ],
   "source": [
    "np.sort(data['loan'].unique())"
   ]
  },
  {
   "cell_type": "markdown",
   "id": "9c26d972",
   "metadata": {},
   "source": [
    "1. no : 0\n",
    "2. yes : 1"
   ]
  },
  {
   "cell_type": "markdown",
   "id": "62113d53",
   "metadata": {},
   "source": [
    "#### Feature Contact"
   ]
  },
  {
   "cell_type": "code",
   "execution_count": 155,
   "id": "0441366b",
   "metadata": {},
   "outputs": [
    {
     "data": {
      "text/plain": [
       "array(['cellular', 'telephone', 'unknown'], dtype=object)"
      ]
     },
     "execution_count": 155,
     "metadata": {},
     "output_type": "execute_result"
    }
   ],
   "source": [
    "data['contact'] = le.fit_transform(data['contact'])\n",
    "le.classes_"
   ]
  },
  {
   "cell_type": "code",
   "execution_count": 156,
   "id": "df7900bb",
   "metadata": {},
   "outputs": [
    {
     "data": {
      "text/plain": [
       "array([0, 1, 2])"
      ]
     },
     "execution_count": 156,
     "metadata": {},
     "output_type": "execute_result"
    }
   ],
   "source": [
    "np.sort(data['contact'].unique())"
   ]
  },
  {
   "cell_type": "markdown",
   "id": "2c78eb63",
   "metadata": {},
   "source": [
    "1. cellular : 0\n",
    "2. telephone : 1\n",
    "3. unknown : 2"
   ]
  },
  {
   "cell_type": "markdown",
   "id": "e1579411",
   "metadata": {},
   "source": [
    "#### Feature Month"
   ]
  },
  {
   "cell_type": "code",
   "execution_count": 157,
   "id": "ae995a9c",
   "metadata": {},
   "outputs": [
    {
     "data": {
      "text/plain": [
       "array(['apr', 'aug', 'dec', 'feb', 'jan', 'jul', 'jun', 'mar', 'may',\n",
       "       'nov', 'oct', 'sep'], dtype=object)"
      ]
     },
     "execution_count": 157,
     "metadata": {},
     "output_type": "execute_result"
    }
   ],
   "source": [
    "data['month'] = le.fit_transform(data['month'])\n",
    "le.classes_"
   ]
  },
  {
   "cell_type": "code",
   "execution_count": 158,
   "id": "64a67d78",
   "metadata": {},
   "outputs": [
    {
     "data": {
      "text/plain": [
       "array([ 0,  1,  2,  3,  4,  5,  6,  7,  8,  9, 10, 11])"
      ]
     },
     "execution_count": 158,
     "metadata": {},
     "output_type": "execute_result"
    }
   ],
   "source": [
    "np.sort(data['month'].unique())"
   ]
  },
  {
   "cell_type": "markdown",
   "id": "7a45b025",
   "metadata": {},
   "source": [
    "1. apr : 0\n",
    "2. aug : 1\n",
    "3. dec : 2\n",
    "4. feb : 3\n",
    "5. jan : 4\n",
    "6. jul : 5\n",
    "7. jun : 6\n",
    "8. mar : 7\n",
    "9. may : 8\n",
    "10. nov : 9\n",
    "11. oct : 10\n",
    "12. sep : 11"
   ]
  },
  {
   "cell_type": "markdown",
   "id": "47fe864f",
   "metadata": {},
   "source": [
    "#### Feature Poutcome"
   ]
  },
  {
   "cell_type": "code",
   "execution_count": 159,
   "id": "73058509",
   "metadata": {},
   "outputs": [
    {
     "data": {
      "text/plain": [
       "array(['failure', 'other', 'success', 'unknown'], dtype=object)"
      ]
     },
     "execution_count": 159,
     "metadata": {},
     "output_type": "execute_result"
    }
   ],
   "source": [
    "data['poutcome'] = le.fit_transform(data['poutcome'])\n",
    "le.classes_"
   ]
  },
  {
   "cell_type": "code",
   "execution_count": 160,
   "id": "8cad911f",
   "metadata": {},
   "outputs": [
    {
     "data": {
      "text/plain": [
       "array([0, 1, 2, 3])"
      ]
     },
     "execution_count": 160,
     "metadata": {},
     "output_type": "execute_result"
    }
   ],
   "source": [
    "np.sort(data['poutcome'].unique())"
   ]
  },
  {
   "cell_type": "markdown",
   "id": "c767f605",
   "metadata": {},
   "source": [
    "1. failure : 0\n",
    "2. other : 1\n",
    "3. success : 2\n",
    "4. unknown : 3"
   ]
  },
  {
   "cell_type": "markdown",
   "id": "07a6281b",
   "metadata": {},
   "source": [
    "#### Target Feature"
   ]
  },
  {
   "cell_type": "code",
   "execution_count": 161,
   "id": "2c09f721",
   "metadata": {},
   "outputs": [
    {
     "data": {
      "text/plain": [
       "array(['no', 'yes'], dtype=object)"
      ]
     },
     "execution_count": 161,
     "metadata": {},
     "output_type": "execute_result"
    }
   ],
   "source": [
    "data['y'] = le.fit_transform(data['y'])\n",
    "le.classes_"
   ]
  },
  {
   "cell_type": "code",
   "execution_count": 162,
   "id": "0920d850",
   "metadata": {},
   "outputs": [
    {
     "data": {
      "text/plain": [
       "array([0, 1])"
      ]
     },
     "execution_count": 162,
     "metadata": {},
     "output_type": "execute_result"
    }
   ],
   "source": [
    "np.sort(data['y'].unique())"
   ]
  },
  {
   "cell_type": "markdown",
   "id": "752f69f0",
   "metadata": {},
   "source": [
    "1. no : 0\n",
    "2. yes : 1"
   ]
  },
  {
   "cell_type": "markdown",
   "id": "caf451c5",
   "metadata": {},
   "source": [
    "#### Cek Data Frame"
   ]
  },
  {
   "cell_type": "code",
   "execution_count": 192,
   "id": "5d644a29",
   "metadata": {},
   "outputs": [
    {
     "data": {
      "text/html": [
       "<div>\n",
       "<style scoped>\n",
       "    .dataframe tbody tr th:only-of-type {\n",
       "        vertical-align: middle;\n",
       "    }\n",
       "\n",
       "    .dataframe tbody tr th {\n",
       "        vertical-align: top;\n",
       "    }\n",
       "\n",
       "    .dataframe thead th {\n",
       "        text-align: right;\n",
       "    }\n",
       "</style>\n",
       "<table border=\"1\" class=\"dataframe\">\n",
       "  <thead>\n",
       "    <tr style=\"text-align: right;\">\n",
       "      <th></th>\n",
       "      <th>age</th>\n",
       "      <th>job</th>\n",
       "      <th>marital</th>\n",
       "      <th>education</th>\n",
       "      <th>default</th>\n",
       "      <th>balance</th>\n",
       "      <th>housing</th>\n",
       "      <th>loan</th>\n",
       "      <th>contact</th>\n",
       "      <th>day</th>\n",
       "      <th>month</th>\n",
       "      <th>duration</th>\n",
       "      <th>campaign</th>\n",
       "      <th>poutcome</th>\n",
       "      <th>y</th>\n",
       "    </tr>\n",
       "  </thead>\n",
       "  <tbody>\n",
       "    <tr>\n",
       "      <th>0</th>\n",
       "      <td>58.0</td>\n",
       "      <td>4</td>\n",
       "      <td>1</td>\n",
       "      <td>2</td>\n",
       "      <td>0</td>\n",
       "      <td>2143</td>\n",
       "      <td>1</td>\n",
       "      <td>0</td>\n",
       "      <td>2</td>\n",
       "      <td>5</td>\n",
       "      <td>8</td>\n",
       "      <td>261</td>\n",
       "      <td>1</td>\n",
       "      <td>3</td>\n",
       "      <td>0</td>\n",
       "    </tr>\n",
       "    <tr>\n",
       "      <th>1</th>\n",
       "      <td>44.0</td>\n",
       "      <td>9</td>\n",
       "      <td>2</td>\n",
       "      <td>1</td>\n",
       "      <td>0</td>\n",
       "      <td>29</td>\n",
       "      <td>1</td>\n",
       "      <td>0</td>\n",
       "      <td>2</td>\n",
       "      <td>5</td>\n",
       "      <td>8</td>\n",
       "      <td>151</td>\n",
       "      <td>1</td>\n",
       "      <td>3</td>\n",
       "      <td>0</td>\n",
       "    </tr>\n",
       "    <tr>\n",
       "      <th>2</th>\n",
       "      <td>33.0</td>\n",
       "      <td>2</td>\n",
       "      <td>1</td>\n",
       "      <td>1</td>\n",
       "      <td>0</td>\n",
       "      <td>2</td>\n",
       "      <td>1</td>\n",
       "      <td>1</td>\n",
       "      <td>2</td>\n",
       "      <td>5</td>\n",
       "      <td>8</td>\n",
       "      <td>76</td>\n",
       "      <td>1</td>\n",
       "      <td>3</td>\n",
       "      <td>0</td>\n",
       "    </tr>\n",
       "    <tr>\n",
       "      <th>3</th>\n",
       "      <td>47.0</td>\n",
       "      <td>1</td>\n",
       "      <td>1</td>\n",
       "      <td>3</td>\n",
       "      <td>0</td>\n",
       "      <td>1506</td>\n",
       "      <td>1</td>\n",
       "      <td>0</td>\n",
       "      <td>2</td>\n",
       "      <td>5</td>\n",
       "      <td>8</td>\n",
       "      <td>92</td>\n",
       "      <td>1</td>\n",
       "      <td>3</td>\n",
       "      <td>0</td>\n",
       "    </tr>\n",
       "    <tr>\n",
       "      <th>4</th>\n",
       "      <td>33.0</td>\n",
       "      <td>11</td>\n",
       "      <td>2</td>\n",
       "      <td>3</td>\n",
       "      <td>0</td>\n",
       "      <td>1</td>\n",
       "      <td>0</td>\n",
       "      <td>0</td>\n",
       "      <td>2</td>\n",
       "      <td>5</td>\n",
       "      <td>8</td>\n",
       "      <td>198</td>\n",
       "      <td>1</td>\n",
       "      <td>3</td>\n",
       "      <td>0</td>\n",
       "    </tr>\n",
       "  </tbody>\n",
       "</table>\n",
       "</div>"
      ],
      "text/plain": [
       "    age  job  marital  education  default  balance  housing  loan  contact  \\\n",
       "0  58.0    4        1          2        0     2143        1     0        2   \n",
       "1  44.0    9        2          1        0       29        1     0        2   \n",
       "2  33.0    2        1          1        0        2        1     1        2   \n",
       "3  47.0    1        1          3        0     1506        1     0        2   \n",
       "4  33.0   11        2          3        0        1        0     0        2   \n",
       "\n",
       "   day  month  duration  campaign  poutcome  y  \n",
       "0    5      8       261         1         3  0  \n",
       "1    5      8       151         1         3  0  \n",
       "2    5      8        76         1         3  0  \n",
       "3    5      8        92         1         3  0  \n",
       "4    5      8       198         1         3  0  "
      ]
     },
     "execution_count": 192,
     "metadata": {},
     "output_type": "execute_result"
    }
   ],
   "source": [
    "data.head()"
   ]
  },
  {
   "cell_type": "code",
   "execution_count": 193,
   "id": "f935f605",
   "metadata": {},
   "outputs": [
    {
     "name": "stdout",
     "output_type": "stream",
     "text": [
      "<class 'pandas.core.frame.DataFrame'>\n",
      "RangeIndex: 45211 entries, 0 to 45210\n",
      "Data columns (total 15 columns):\n",
      " #   Column     Non-Null Count  Dtype  \n",
      "---  ------     --------------  -----  \n",
      " 0   age        45211 non-null  float64\n",
      " 1   job        45211 non-null  int32  \n",
      " 2   marital    45211 non-null  int32  \n",
      " 3   education  45211 non-null  int32  \n",
      " 4   default    45211 non-null  int32  \n",
      " 5   balance    45211 non-null  int64  \n",
      " 6   housing    45211 non-null  int32  \n",
      " 7   loan       45211 non-null  int32  \n",
      " 8   contact    45211 non-null  int32  \n",
      " 9   day        45211 non-null  int64  \n",
      " 10  month      45211 non-null  int32  \n",
      " 11  duration   45211 non-null  int64  \n",
      " 12  campaign   45211 non-null  int64  \n",
      " 13  poutcome   45211 non-null  int32  \n",
      " 14  y          45211 non-null  int32  \n",
      "dtypes: float64(1), int32(10), int64(4)\n",
      "memory usage: 3.4 MB\n"
     ]
    }
   ],
   "source": [
    "data.info()"
   ]
  },
  {
   "cell_type": "markdown",
   "id": "c4fb964b",
   "metadata": {},
   "source": [
    "### Training and Test Dataset"
   ]
  },
  {
   "cell_type": "markdown",
   "id": "482da43f",
   "metadata": {},
   "source": [
    "#### Import Module"
   ]
  },
  {
   "cell_type": "code",
   "execution_count": 165,
   "id": "843eeb4e",
   "metadata": {},
   "outputs": [],
   "source": [
    "from sklearn.model_selection import train_test_split"
   ]
  },
  {
   "cell_type": "code",
   "execution_count": 166,
   "id": "b472403e",
   "metadata": {},
   "outputs": [],
   "source": [
    "X = data.drop(['y'], axis=1)\n",
    "y = data['y']"
   ]
  },
  {
   "cell_type": "code",
   "execution_count": 170,
   "id": "6e1b5bf4",
   "metadata": {},
   "outputs": [
    {
     "data": {
      "text/html": [
       "<div>\n",
       "<style scoped>\n",
       "    .dataframe tbody tr th:only-of-type {\n",
       "        vertical-align: middle;\n",
       "    }\n",
       "\n",
       "    .dataframe tbody tr th {\n",
       "        vertical-align: top;\n",
       "    }\n",
       "\n",
       "    .dataframe thead th {\n",
       "        text-align: right;\n",
       "    }\n",
       "</style>\n",
       "<table border=\"1\" class=\"dataframe\">\n",
       "  <thead>\n",
       "    <tr style=\"text-align: right;\">\n",
       "      <th></th>\n",
       "      <th>age</th>\n",
       "      <th>job</th>\n",
       "      <th>marital</th>\n",
       "      <th>education</th>\n",
       "      <th>default</th>\n",
       "      <th>balance</th>\n",
       "      <th>housing</th>\n",
       "      <th>loan</th>\n",
       "      <th>contact</th>\n",
       "      <th>day</th>\n",
       "      <th>month</th>\n",
       "      <th>duration</th>\n",
       "      <th>campaign</th>\n",
       "      <th>poutcome</th>\n",
       "    </tr>\n",
       "  </thead>\n",
       "  <tbody>\n",
       "    <tr>\n",
       "      <th>0</th>\n",
       "      <td>58</td>\n",
       "      <td>4</td>\n",
       "      <td>1</td>\n",
       "      <td>2</td>\n",
       "      <td>0</td>\n",
       "      <td>2143</td>\n",
       "      <td>1</td>\n",
       "      <td>0</td>\n",
       "      <td>2</td>\n",
       "      <td>5</td>\n",
       "      <td>8</td>\n",
       "      <td>261</td>\n",
       "      <td>1</td>\n",
       "      <td>3</td>\n",
       "    </tr>\n",
       "    <tr>\n",
       "      <th>1</th>\n",
       "      <td>44</td>\n",
       "      <td>9</td>\n",
       "      <td>2</td>\n",
       "      <td>1</td>\n",
       "      <td>0</td>\n",
       "      <td>29</td>\n",
       "      <td>1</td>\n",
       "      <td>0</td>\n",
       "      <td>2</td>\n",
       "      <td>5</td>\n",
       "      <td>8</td>\n",
       "      <td>151</td>\n",
       "      <td>1</td>\n",
       "      <td>3</td>\n",
       "    </tr>\n",
       "    <tr>\n",
       "      <th>2</th>\n",
       "      <td>33</td>\n",
       "      <td>2</td>\n",
       "      <td>1</td>\n",
       "      <td>1</td>\n",
       "      <td>0</td>\n",
       "      <td>2</td>\n",
       "      <td>1</td>\n",
       "      <td>1</td>\n",
       "      <td>2</td>\n",
       "      <td>5</td>\n",
       "      <td>8</td>\n",
       "      <td>76</td>\n",
       "      <td>1</td>\n",
       "      <td>3</td>\n",
       "    </tr>\n",
       "    <tr>\n",
       "      <th>3</th>\n",
       "      <td>47</td>\n",
       "      <td>1</td>\n",
       "      <td>1</td>\n",
       "      <td>3</td>\n",
       "      <td>0</td>\n",
       "      <td>1506</td>\n",
       "      <td>1</td>\n",
       "      <td>0</td>\n",
       "      <td>2</td>\n",
       "      <td>5</td>\n",
       "      <td>8</td>\n",
       "      <td>92</td>\n",
       "      <td>1</td>\n",
       "      <td>3</td>\n",
       "    </tr>\n",
       "    <tr>\n",
       "      <th>4</th>\n",
       "      <td>33</td>\n",
       "      <td>11</td>\n",
       "      <td>2</td>\n",
       "      <td>3</td>\n",
       "      <td>0</td>\n",
       "      <td>1</td>\n",
       "      <td>0</td>\n",
       "      <td>0</td>\n",
       "      <td>2</td>\n",
       "      <td>5</td>\n",
       "      <td>8</td>\n",
       "      <td>198</td>\n",
       "      <td>1</td>\n",
       "      <td>3</td>\n",
       "    </tr>\n",
       "    <tr>\n",
       "      <th>...</th>\n",
       "      <td>...</td>\n",
       "      <td>...</td>\n",
       "      <td>...</td>\n",
       "      <td>...</td>\n",
       "      <td>...</td>\n",
       "      <td>...</td>\n",
       "      <td>...</td>\n",
       "      <td>...</td>\n",
       "      <td>...</td>\n",
       "      <td>...</td>\n",
       "      <td>...</td>\n",
       "      <td>...</td>\n",
       "      <td>...</td>\n",
       "      <td>...</td>\n",
       "    </tr>\n",
       "    <tr>\n",
       "      <th>45206</th>\n",
       "      <td>51</td>\n",
       "      <td>9</td>\n",
       "      <td>1</td>\n",
       "      <td>2</td>\n",
       "      <td>0</td>\n",
       "      <td>825</td>\n",
       "      <td>0</td>\n",
       "      <td>0</td>\n",
       "      <td>0</td>\n",
       "      <td>17</td>\n",
       "      <td>9</td>\n",
       "      <td>977</td>\n",
       "      <td>3</td>\n",
       "      <td>3</td>\n",
       "    </tr>\n",
       "    <tr>\n",
       "      <th>45207</th>\n",
       "      <td>71</td>\n",
       "      <td>5</td>\n",
       "      <td>0</td>\n",
       "      <td>0</td>\n",
       "      <td>0</td>\n",
       "      <td>1729</td>\n",
       "      <td>0</td>\n",
       "      <td>0</td>\n",
       "      <td>0</td>\n",
       "      <td>17</td>\n",
       "      <td>9</td>\n",
       "      <td>456</td>\n",
       "      <td>2</td>\n",
       "      <td>3</td>\n",
       "    </tr>\n",
       "    <tr>\n",
       "      <th>45208</th>\n",
       "      <td>72</td>\n",
       "      <td>5</td>\n",
       "      <td>1</td>\n",
       "      <td>1</td>\n",
       "      <td>0</td>\n",
       "      <td>5715</td>\n",
       "      <td>0</td>\n",
       "      <td>0</td>\n",
       "      <td>0</td>\n",
       "      <td>17</td>\n",
       "      <td>9</td>\n",
       "      <td>1127</td>\n",
       "      <td>5</td>\n",
       "      <td>2</td>\n",
       "    </tr>\n",
       "    <tr>\n",
       "      <th>45209</th>\n",
       "      <td>57</td>\n",
       "      <td>1</td>\n",
       "      <td>1</td>\n",
       "      <td>1</td>\n",
       "      <td>0</td>\n",
       "      <td>668</td>\n",
       "      <td>0</td>\n",
       "      <td>0</td>\n",
       "      <td>1</td>\n",
       "      <td>17</td>\n",
       "      <td>9</td>\n",
       "      <td>508</td>\n",
       "      <td>4</td>\n",
       "      <td>3</td>\n",
       "    </tr>\n",
       "    <tr>\n",
       "      <th>45210</th>\n",
       "      <td>37</td>\n",
       "      <td>2</td>\n",
       "      <td>1</td>\n",
       "      <td>1</td>\n",
       "      <td>0</td>\n",
       "      <td>2971</td>\n",
       "      <td>0</td>\n",
       "      <td>0</td>\n",
       "      <td>0</td>\n",
       "      <td>17</td>\n",
       "      <td>9</td>\n",
       "      <td>361</td>\n",
       "      <td>2</td>\n",
       "      <td>1</td>\n",
       "    </tr>\n",
       "  </tbody>\n",
       "</table>\n",
       "<p>45211 rows × 14 columns</p>\n",
       "</div>"
      ],
      "text/plain": [
       "       age  job  marital  education  default  balance  housing  loan  contact  \\\n",
       "0       58    4        1          2        0     2143        1     0        2   \n",
       "1       44    9        2          1        0       29        1     0        2   \n",
       "2       33    2        1          1        0        2        1     1        2   \n",
       "3       47    1        1          3        0     1506        1     0        2   \n",
       "4       33   11        2          3        0        1        0     0        2   \n",
       "...    ...  ...      ...        ...      ...      ...      ...   ...      ...   \n",
       "45206   51    9        1          2        0      825        0     0        0   \n",
       "45207   71    5        0          0        0     1729        0     0        0   \n",
       "45208   72    5        1          1        0     5715        0     0        0   \n",
       "45209   57    1        1          1        0      668        0     0        1   \n",
       "45210   37    2        1          1        0     2971        0     0        0   \n",
       "\n",
       "       day  month  duration  campaign  poutcome  \n",
       "0        5      8       261         1         3  \n",
       "1        5      8       151         1         3  \n",
       "2        5      8        76         1         3  \n",
       "3        5      8        92         1         3  \n",
       "4        5      8       198         1         3  \n",
       "...    ...    ...       ...       ...       ...  \n",
       "45206   17      9       977         3         3  \n",
       "45207   17      9       456         2         3  \n",
       "45208   17      9      1127         5         2  \n",
       "45209   17      9       508         4         3  \n",
       "45210   17      9       361         2         1  \n",
       "\n",
       "[45211 rows x 14 columns]"
      ]
     },
     "execution_count": 170,
     "metadata": {},
     "output_type": "execute_result"
    }
   ],
   "source": [
    "X"
   ]
  },
  {
   "cell_type": "code",
   "execution_count": 171,
   "id": "6e0ecdbb",
   "metadata": {},
   "outputs": [
    {
     "data": {
      "text/plain": [
       "0        0\n",
       "1        0\n",
       "2        0\n",
       "3        0\n",
       "4        0\n",
       "        ..\n",
       "45206    1\n",
       "45207    1\n",
       "45208    1\n",
       "45209    0\n",
       "45210    0\n",
       "Name: y, Length: 45211, dtype: int32"
      ]
     },
     "execution_count": 171,
     "metadata": {},
     "output_type": "execute_result"
    }
   ],
   "source": [
    "y"
   ]
  },
  {
   "cell_type": "code",
   "execution_count": 175,
   "id": "123ba678",
   "metadata": {},
   "outputs": [],
   "source": [
    "X_train, X_test, y_train, y_test = train_test_split(X, y, test_size=0.2, random_state=0)"
   ]
  },
  {
   "cell_type": "markdown",
   "id": "a65c1879",
   "metadata": {},
   "source": [
    "### Training Model: Fit"
   ]
  },
  {
   "cell_type": "markdown",
   "id": "6c689cf8",
   "metadata": {},
   "source": [
    "#### Import Module"
   ]
  },
  {
   "cell_type": "code",
   "execution_count": 176,
   "id": "87b35e4a",
   "metadata": {},
   "outputs": [],
   "source": [
    "from sklearn.tree import DecisionTreeClassifier\n",
    "model = DecisionTreeClassifier()"
   ]
  },
  {
   "cell_type": "code",
   "execution_count": 177,
   "id": "ac81ab99",
   "metadata": {},
   "outputs": [],
   "source": [
    "model = model.fit(X_train, y_train)"
   ]
  },
  {
   "cell_type": "markdown",
   "id": "2f4c6bca",
   "metadata": {},
   "source": [
    "### Training Model: Predict"
   ]
  },
  {
   "cell_type": "code",
   "execution_count": 178,
   "id": "ccb29413",
   "metadata": {},
   "outputs": [
    {
     "data": {
      "text/plain": [
       "(9043,)"
      ]
     },
     "execution_count": 178,
     "metadata": {},
     "output_type": "execute_result"
    }
   ],
   "source": [
    "y_pred = model.predict(X_test)\n",
    "y_pred.shape"
   ]
  },
  {
   "cell_type": "markdown",
   "id": "0c58020c",
   "metadata": {},
   "source": [
    "### Evaluasi Model Performance"
   ]
  },
  {
   "cell_type": "markdown",
   "id": "71666991",
   "metadata": {},
   "source": [
    "#### Import Module"
   ]
  },
  {
   "cell_type": "code",
   "execution_count": 179,
   "id": "427a82b9",
   "metadata": {},
   "outputs": [],
   "source": [
    "from sklearn.metrics import confusion_matrix, classification_report"
   ]
  },
  {
   "cell_type": "code",
   "execution_count": 181,
   "id": "90a4f971",
   "metadata": {},
   "outputs": [
    {
     "data": {
      "text/plain": [
       "('Training Accuracy :', 1.0)"
      ]
     },
     "execution_count": 181,
     "metadata": {},
     "output_type": "execute_result"
    }
   ],
   "source": [
    "'Training Accuracy :', model.score(X_train, y_train)"
   ]
  },
  {
   "cell_type": "code",
   "execution_count": 182,
   "id": "1878192f",
   "metadata": {},
   "outputs": [
    {
     "data": {
      "text/plain": [
       "('Testing Accuracy :', 0.8677430056397213)"
      ]
     },
     "execution_count": 182,
     "metadata": {},
     "output_type": "execute_result"
    }
   ],
   "source": [
    "'Testing Accuracy :', model.score(X_test, y_test)"
   ]
  },
  {
   "cell_type": "markdown",
   "id": "f16f41e9",
   "metadata": {},
   "source": [
    "#### Penjelasan\n",
    "Testing Accuracy menjunjukkan angka 0.8677. Ini berarti akurasi model dengan menggunakan Testing Dataset adalah 86,77 %. Model yang dibuat sudah cukup baik untuk memprediksi Target Feature."
   ]
  },
  {
   "cell_type": "markdown",
   "id": "cd641daf",
   "metadata": {},
   "source": [
    "#### Confusion Matrix"
   ]
  },
  {
   "cell_type": "code",
   "execution_count": 187,
   "id": "07138fea",
   "metadata": {
    "scrolled": true
   },
   "outputs": [
    {
     "name": "stdout",
     "output_type": "stream",
     "text": [
      "Confusion Matrix :\n",
      " [[7354  626]\n",
      " [ 570  493]]\n"
     ]
    }
   ],
   "source": [
    "print('Confusion Matrix :\\n', confusion_matrix(y_test, y_pred))"
   ]
  },
  {
   "cell_type": "markdown",
   "id": "db0e7f3c",
   "metadata": {},
   "source": [
    "#### Penjelasan\n",
    "Confusion Matrix mempresentasikan perbandingan prediksi  dan real label dari test dataset yang dihasilkan oleh ML.\n",
    "1. 7354 (True Positive) - Memprediksi client yang berlangganan deposit dan memang benar client berlangganan deposit.\n",
    "2. 493 (True Negative) - Memprediksi client yang tidak berlangganan deposit dan memang client tidak berlangganan deposit.\n",
    "3. 626 (False Positive) - Memprediksi client berlangganan deposit tapi ternyata client tidak berlangganan deposit.\n",
    "4. 570 (False Negative) - Memprediksi client tidak berlangganan deposit tapi ternyata client berlangganan deposit."
   ]
  },
  {
   "cell_type": "markdown",
   "id": "635c0763",
   "metadata": {},
   "source": [
    "#### Classification Report"
   ]
  },
  {
   "cell_type": "code",
   "execution_count": 188,
   "id": "b6d2a580",
   "metadata": {},
   "outputs": [
    {
     "name": "stdout",
     "output_type": "stream",
     "text": [
      "Classification Report :\n",
      "               precision    recall  f1-score   support\n",
      "\n",
      "           0       0.93      0.92      0.92      7980\n",
      "           1       0.44      0.46      0.45      1063\n",
      "\n",
      "    accuracy                           0.87      9043\n",
      "   macro avg       0.68      0.69      0.69      9043\n",
      "weighted avg       0.87      0.87      0.87      9043\n",
      "\n"
     ]
    }
   ],
   "source": [
    "print('Classification Report :\\n', classification_report(y_test, y_pred))"
   ]
  },
  {
   "cell_type": "markdown",
   "id": "b16c1293",
   "metadata": {},
   "source": []
  }
 ],
 "metadata": {
  "kernelspec": {
   "display_name": "Python 3 (ipykernel)",
   "language": "python",
   "name": "python3"
  },
  "language_info": {
   "codemirror_mode": {
    "name": "ipython",
    "version": 3
   },
   "file_extension": ".py",
   "mimetype": "text/x-python",
   "name": "python",
   "nbconvert_exporter": "python",
   "pygments_lexer": "ipython3",
   "version": "3.9.7"
  }
 },
 "nbformat": 4,
 "nbformat_minor": 5
}
