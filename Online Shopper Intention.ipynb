{
 "cells": [
  {
   "cell_type": "markdown",
   "id": "46ab3314",
   "metadata": {},
   "source": [
    "# Machine Learning - Online Shopper Intention"
   ]
  },
  {
   "cell_type": "markdown",
   "id": "5f994f33",
   "metadata": {},
   "source": [
    "### Import Module"
   ]
  },
  {
   "cell_type": "code",
   "execution_count": 1,
   "id": "d302406d",
   "metadata": {},
   "outputs": [],
   "source": [
    "import pandas as pd\n",
    "import numpy as np\n",
    "import matplotlib.pyplot as plt\n",
    "import seaborn as sns\n",
    "sns.set()"
   ]
  },
  {
   "cell_type": "markdown",
   "id": "684453e3",
   "metadata": {},
   "source": [
    "### Data Preparation"
   ]
  },
  {
   "cell_type": "code",
   "execution_count": 2,
   "id": "9e6e80ac",
   "metadata": {},
   "outputs": [
    {
     "data": {
      "text/html": [
       "<div>\n",
       "<style scoped>\n",
       "    .dataframe tbody tr th:only-of-type {\n",
       "        vertical-align: middle;\n",
       "    }\n",
       "\n",
       "    .dataframe tbody tr th {\n",
       "        vertical-align: top;\n",
       "    }\n",
       "\n",
       "    .dataframe thead th {\n",
       "        text-align: right;\n",
       "    }\n",
       "</style>\n",
       "<table border=\"1\" class=\"dataframe\">\n",
       "  <thead>\n",
       "    <tr style=\"text-align: right;\">\n",
       "      <th></th>\n",
       "      <th>Administrative</th>\n",
       "      <th>Administrative_Duration</th>\n",
       "      <th>Informational</th>\n",
       "      <th>Informational_Duration</th>\n",
       "      <th>ProductRelated</th>\n",
       "      <th>ProductRelated_Duration</th>\n",
       "      <th>BounceRates</th>\n",
       "      <th>ExitRates</th>\n",
       "      <th>PageValues</th>\n",
       "      <th>SpecialDay</th>\n",
       "      <th>Month</th>\n",
       "      <th>OperatingSystems</th>\n",
       "      <th>Browser</th>\n",
       "      <th>Region</th>\n",
       "      <th>TrafficType</th>\n",
       "      <th>VisitorType</th>\n",
       "      <th>Weekend</th>\n",
       "      <th>Revenue</th>\n",
       "    </tr>\n",
       "  </thead>\n",
       "  <tbody>\n",
       "    <tr>\n",
       "      <th>0</th>\n",
       "      <td>0</td>\n",
       "      <td>0.0</td>\n",
       "      <td>0</td>\n",
       "      <td>0.0</td>\n",
       "      <td>1</td>\n",
       "      <td>0.000000</td>\n",
       "      <td>0.20</td>\n",
       "      <td>0.20</td>\n",
       "      <td>0.0</td>\n",
       "      <td>0.0</td>\n",
       "      <td>Feb</td>\n",
       "      <td>1</td>\n",
       "      <td>1</td>\n",
       "      <td>1</td>\n",
       "      <td>1</td>\n",
       "      <td>Returning_Visitor</td>\n",
       "      <td>False</td>\n",
       "      <td>False</td>\n",
       "    </tr>\n",
       "    <tr>\n",
       "      <th>1</th>\n",
       "      <td>0</td>\n",
       "      <td>0.0</td>\n",
       "      <td>0</td>\n",
       "      <td>0.0</td>\n",
       "      <td>2</td>\n",
       "      <td>64.000000</td>\n",
       "      <td>0.00</td>\n",
       "      <td>0.10</td>\n",
       "      <td>0.0</td>\n",
       "      <td>0.0</td>\n",
       "      <td>Feb</td>\n",
       "      <td>2</td>\n",
       "      <td>2</td>\n",
       "      <td>1</td>\n",
       "      <td>2</td>\n",
       "      <td>Returning_Visitor</td>\n",
       "      <td>False</td>\n",
       "      <td>False</td>\n",
       "    </tr>\n",
       "    <tr>\n",
       "      <th>2</th>\n",
       "      <td>0</td>\n",
       "      <td>0.0</td>\n",
       "      <td>0</td>\n",
       "      <td>0.0</td>\n",
       "      <td>1</td>\n",
       "      <td>0.000000</td>\n",
       "      <td>0.20</td>\n",
       "      <td>0.20</td>\n",
       "      <td>0.0</td>\n",
       "      <td>0.0</td>\n",
       "      <td>Feb</td>\n",
       "      <td>4</td>\n",
       "      <td>1</td>\n",
       "      <td>9</td>\n",
       "      <td>3</td>\n",
       "      <td>Returning_Visitor</td>\n",
       "      <td>False</td>\n",
       "      <td>False</td>\n",
       "    </tr>\n",
       "    <tr>\n",
       "      <th>3</th>\n",
       "      <td>0</td>\n",
       "      <td>0.0</td>\n",
       "      <td>0</td>\n",
       "      <td>0.0</td>\n",
       "      <td>2</td>\n",
       "      <td>2.666667</td>\n",
       "      <td>0.05</td>\n",
       "      <td>0.14</td>\n",
       "      <td>0.0</td>\n",
       "      <td>0.0</td>\n",
       "      <td>Feb</td>\n",
       "      <td>3</td>\n",
       "      <td>2</td>\n",
       "      <td>2</td>\n",
       "      <td>4</td>\n",
       "      <td>Returning_Visitor</td>\n",
       "      <td>False</td>\n",
       "      <td>False</td>\n",
       "    </tr>\n",
       "    <tr>\n",
       "      <th>4</th>\n",
       "      <td>0</td>\n",
       "      <td>0.0</td>\n",
       "      <td>0</td>\n",
       "      <td>0.0</td>\n",
       "      <td>10</td>\n",
       "      <td>627.500000</td>\n",
       "      <td>0.02</td>\n",
       "      <td>0.05</td>\n",
       "      <td>0.0</td>\n",
       "      <td>0.0</td>\n",
       "      <td>Feb</td>\n",
       "      <td>3</td>\n",
       "      <td>3</td>\n",
       "      <td>1</td>\n",
       "      <td>4</td>\n",
       "      <td>Returning_Visitor</td>\n",
       "      <td>True</td>\n",
       "      <td>False</td>\n",
       "    </tr>\n",
       "  </tbody>\n",
       "</table>\n",
       "</div>"
      ],
      "text/plain": [
       "   Administrative  Administrative_Duration  Informational  \\\n",
       "0               0                      0.0              0   \n",
       "1               0                      0.0              0   \n",
       "2               0                      0.0              0   \n",
       "3               0                      0.0              0   \n",
       "4               0                      0.0              0   \n",
       "\n",
       "   Informational_Duration  ProductRelated  ProductRelated_Duration  \\\n",
       "0                     0.0               1                 0.000000   \n",
       "1                     0.0               2                64.000000   \n",
       "2                     0.0               1                 0.000000   \n",
       "3                     0.0               2                 2.666667   \n",
       "4                     0.0              10               627.500000   \n",
       "\n",
       "   BounceRates  ExitRates  PageValues  SpecialDay Month  OperatingSystems  \\\n",
       "0         0.20       0.20         0.0         0.0   Feb                 1   \n",
       "1         0.00       0.10         0.0         0.0   Feb                 2   \n",
       "2         0.20       0.20         0.0         0.0   Feb                 4   \n",
       "3         0.05       0.14         0.0         0.0   Feb                 3   \n",
       "4         0.02       0.05         0.0         0.0   Feb                 3   \n",
       "\n",
       "   Browser  Region  TrafficType        VisitorType  Weekend  Revenue  \n",
       "0        1       1            1  Returning_Visitor    False    False  \n",
       "1        2       1            2  Returning_Visitor    False    False  \n",
       "2        1       9            3  Returning_Visitor    False    False  \n",
       "3        2       2            4  Returning_Visitor    False    False  \n",
       "4        3       1            4  Returning_Visitor     True    False  "
      ]
     },
     "execution_count": 2,
     "metadata": {},
     "output_type": "execute_result"
    }
   ],
   "source": [
    "data = pd.read_csv('Dataset/online_shoppers_intention.csv')\n",
    "data.head()"
   ]
  },
  {
   "cell_type": "markdown",
   "id": "7f8cad45",
   "metadata": {},
   "source": [
    "### Exploratory Data Analysis"
   ]
  },
  {
   "cell_type": "code",
   "execution_count": 3,
   "id": "2e2688d4",
   "metadata": {},
   "outputs": [
    {
     "data": {
      "text/plain": [
       "(12330, 18)"
      ]
     },
     "execution_count": 3,
     "metadata": {},
     "output_type": "execute_result"
    }
   ],
   "source": [
    "data.shape"
   ]
  },
  {
   "cell_type": "code",
   "execution_count": 4,
   "id": "8e07f3d5",
   "metadata": {},
   "outputs": [
    {
     "name": "stdout",
     "output_type": "stream",
     "text": [
      "<class 'pandas.core.frame.DataFrame'>\n",
      "RangeIndex: 12330 entries, 0 to 12329\n",
      "Data columns (total 18 columns):\n",
      " #   Column                   Non-Null Count  Dtype  \n",
      "---  ------                   --------------  -----  \n",
      " 0   Administrative           12330 non-null  int64  \n",
      " 1   Administrative_Duration  12330 non-null  float64\n",
      " 2   Informational            12330 non-null  int64  \n",
      " 3   Informational_Duration   12330 non-null  float64\n",
      " 4   ProductRelated           12330 non-null  int64  \n",
      " 5   ProductRelated_Duration  12330 non-null  float64\n",
      " 6   BounceRates              12330 non-null  float64\n",
      " 7   ExitRates                12330 non-null  float64\n",
      " 8   PageValues               12330 non-null  float64\n",
      " 9   SpecialDay               12330 non-null  float64\n",
      " 10  Month                    12330 non-null  object \n",
      " 11  OperatingSystems         12330 non-null  int64  \n",
      " 12  Browser                  12330 non-null  int64  \n",
      " 13  Region                   12330 non-null  int64  \n",
      " 14  TrafficType              12330 non-null  int64  \n",
      " 15  VisitorType              12330 non-null  object \n",
      " 16  Weekend                  12330 non-null  bool   \n",
      " 17  Revenue                  12330 non-null  bool   \n",
      "dtypes: bool(2), float64(7), int64(7), object(2)\n",
      "memory usage: 1.5+ MB\n"
     ]
    }
   ],
   "source": [
    "data.info()"
   ]
  },
  {
   "cell_type": "code",
   "execution_count": 5,
   "id": "6420fab8",
   "metadata": {},
   "outputs": [
    {
     "data": {
      "text/html": [
       "<div>\n",
       "<style scoped>\n",
       "    .dataframe tbody tr th:only-of-type {\n",
       "        vertical-align: middle;\n",
       "    }\n",
       "\n",
       "    .dataframe tbody tr th {\n",
       "        vertical-align: top;\n",
       "    }\n",
       "\n",
       "    .dataframe thead th {\n",
       "        text-align: right;\n",
       "    }\n",
       "</style>\n",
       "<table border=\"1\" class=\"dataframe\">\n",
       "  <thead>\n",
       "    <tr style=\"text-align: right;\">\n",
       "      <th></th>\n",
       "      <th>Administrative</th>\n",
       "      <th>Administrative_Duration</th>\n",
       "      <th>Informational</th>\n",
       "      <th>Informational_Duration</th>\n",
       "      <th>ProductRelated</th>\n",
       "      <th>ProductRelated_Duration</th>\n",
       "      <th>BounceRates</th>\n",
       "      <th>ExitRates</th>\n",
       "      <th>PageValues</th>\n",
       "      <th>SpecialDay</th>\n",
       "      <th>OperatingSystems</th>\n",
       "      <th>Browser</th>\n",
       "      <th>Region</th>\n",
       "      <th>TrafficType</th>\n",
       "    </tr>\n",
       "  </thead>\n",
       "  <tbody>\n",
       "    <tr>\n",
       "      <th>count</th>\n",
       "      <td>12330.000000</td>\n",
       "      <td>12330.000000</td>\n",
       "      <td>12330.000000</td>\n",
       "      <td>12330.000000</td>\n",
       "      <td>12330.000000</td>\n",
       "      <td>12330.000000</td>\n",
       "      <td>12330.000000</td>\n",
       "      <td>12330.000000</td>\n",
       "      <td>12330.000000</td>\n",
       "      <td>12330.000000</td>\n",
       "      <td>12330.000000</td>\n",
       "      <td>12330.000000</td>\n",
       "      <td>12330.000000</td>\n",
       "      <td>12330.000000</td>\n",
       "    </tr>\n",
       "    <tr>\n",
       "      <th>mean</th>\n",
       "      <td>2.315166</td>\n",
       "      <td>80.818611</td>\n",
       "      <td>0.503569</td>\n",
       "      <td>34.472398</td>\n",
       "      <td>31.731468</td>\n",
       "      <td>1194.746220</td>\n",
       "      <td>0.022191</td>\n",
       "      <td>0.043073</td>\n",
       "      <td>5.889258</td>\n",
       "      <td>0.061427</td>\n",
       "      <td>2.124006</td>\n",
       "      <td>2.357097</td>\n",
       "      <td>3.147364</td>\n",
       "      <td>4.069586</td>\n",
       "    </tr>\n",
       "    <tr>\n",
       "      <th>std</th>\n",
       "      <td>3.321784</td>\n",
       "      <td>176.779107</td>\n",
       "      <td>1.270156</td>\n",
       "      <td>140.749294</td>\n",
       "      <td>44.475503</td>\n",
       "      <td>1913.669288</td>\n",
       "      <td>0.048488</td>\n",
       "      <td>0.048597</td>\n",
       "      <td>18.568437</td>\n",
       "      <td>0.198917</td>\n",
       "      <td>0.911325</td>\n",
       "      <td>1.717277</td>\n",
       "      <td>2.401591</td>\n",
       "      <td>4.025169</td>\n",
       "    </tr>\n",
       "    <tr>\n",
       "      <th>min</th>\n",
       "      <td>0.000000</td>\n",
       "      <td>0.000000</td>\n",
       "      <td>0.000000</td>\n",
       "      <td>0.000000</td>\n",
       "      <td>0.000000</td>\n",
       "      <td>0.000000</td>\n",
       "      <td>0.000000</td>\n",
       "      <td>0.000000</td>\n",
       "      <td>0.000000</td>\n",
       "      <td>0.000000</td>\n",
       "      <td>1.000000</td>\n",
       "      <td>1.000000</td>\n",
       "      <td>1.000000</td>\n",
       "      <td>1.000000</td>\n",
       "    </tr>\n",
       "    <tr>\n",
       "      <th>25%</th>\n",
       "      <td>0.000000</td>\n",
       "      <td>0.000000</td>\n",
       "      <td>0.000000</td>\n",
       "      <td>0.000000</td>\n",
       "      <td>7.000000</td>\n",
       "      <td>184.137500</td>\n",
       "      <td>0.000000</td>\n",
       "      <td>0.014286</td>\n",
       "      <td>0.000000</td>\n",
       "      <td>0.000000</td>\n",
       "      <td>2.000000</td>\n",
       "      <td>2.000000</td>\n",
       "      <td>1.000000</td>\n",
       "      <td>2.000000</td>\n",
       "    </tr>\n",
       "    <tr>\n",
       "      <th>50%</th>\n",
       "      <td>1.000000</td>\n",
       "      <td>7.500000</td>\n",
       "      <td>0.000000</td>\n",
       "      <td>0.000000</td>\n",
       "      <td>18.000000</td>\n",
       "      <td>598.936905</td>\n",
       "      <td>0.003112</td>\n",
       "      <td>0.025156</td>\n",
       "      <td>0.000000</td>\n",
       "      <td>0.000000</td>\n",
       "      <td>2.000000</td>\n",
       "      <td>2.000000</td>\n",
       "      <td>3.000000</td>\n",
       "      <td>2.000000</td>\n",
       "    </tr>\n",
       "    <tr>\n",
       "      <th>75%</th>\n",
       "      <td>4.000000</td>\n",
       "      <td>93.256250</td>\n",
       "      <td>0.000000</td>\n",
       "      <td>0.000000</td>\n",
       "      <td>38.000000</td>\n",
       "      <td>1464.157214</td>\n",
       "      <td>0.016813</td>\n",
       "      <td>0.050000</td>\n",
       "      <td>0.000000</td>\n",
       "      <td>0.000000</td>\n",
       "      <td>3.000000</td>\n",
       "      <td>2.000000</td>\n",
       "      <td>4.000000</td>\n",
       "      <td>4.000000</td>\n",
       "    </tr>\n",
       "    <tr>\n",
       "      <th>max</th>\n",
       "      <td>27.000000</td>\n",
       "      <td>3398.750000</td>\n",
       "      <td>24.000000</td>\n",
       "      <td>2549.375000</td>\n",
       "      <td>705.000000</td>\n",
       "      <td>63973.522230</td>\n",
       "      <td>0.200000</td>\n",
       "      <td>0.200000</td>\n",
       "      <td>361.763742</td>\n",
       "      <td>1.000000</td>\n",
       "      <td>8.000000</td>\n",
       "      <td>13.000000</td>\n",
       "      <td>9.000000</td>\n",
       "      <td>20.000000</td>\n",
       "    </tr>\n",
       "  </tbody>\n",
       "</table>\n",
       "</div>"
      ],
      "text/plain": [
       "       Administrative  Administrative_Duration  Informational  \\\n",
       "count    12330.000000             12330.000000   12330.000000   \n",
       "mean         2.315166                80.818611       0.503569   \n",
       "std          3.321784               176.779107       1.270156   \n",
       "min          0.000000                 0.000000       0.000000   \n",
       "25%          0.000000                 0.000000       0.000000   \n",
       "50%          1.000000                 7.500000       0.000000   \n",
       "75%          4.000000                93.256250       0.000000   \n",
       "max         27.000000              3398.750000      24.000000   \n",
       "\n",
       "       Informational_Duration  ProductRelated  ProductRelated_Duration  \\\n",
       "count            12330.000000    12330.000000             12330.000000   \n",
       "mean                34.472398       31.731468              1194.746220   \n",
       "std                140.749294       44.475503              1913.669288   \n",
       "min                  0.000000        0.000000                 0.000000   \n",
       "25%                  0.000000        7.000000               184.137500   \n",
       "50%                  0.000000       18.000000               598.936905   \n",
       "75%                  0.000000       38.000000              1464.157214   \n",
       "max               2549.375000      705.000000             63973.522230   \n",
       "\n",
       "        BounceRates     ExitRates    PageValues    SpecialDay  \\\n",
       "count  12330.000000  12330.000000  12330.000000  12330.000000   \n",
       "mean       0.022191      0.043073      5.889258      0.061427   \n",
       "std        0.048488      0.048597     18.568437      0.198917   \n",
       "min        0.000000      0.000000      0.000000      0.000000   \n",
       "25%        0.000000      0.014286      0.000000      0.000000   \n",
       "50%        0.003112      0.025156      0.000000      0.000000   \n",
       "75%        0.016813      0.050000      0.000000      0.000000   \n",
       "max        0.200000      0.200000    361.763742      1.000000   \n",
       "\n",
       "       OperatingSystems       Browser        Region   TrafficType  \n",
       "count      12330.000000  12330.000000  12330.000000  12330.000000  \n",
       "mean           2.124006      2.357097      3.147364      4.069586  \n",
       "std            0.911325      1.717277      2.401591      4.025169  \n",
       "min            1.000000      1.000000      1.000000      1.000000  \n",
       "25%            2.000000      2.000000      1.000000      2.000000  \n",
       "50%            2.000000      2.000000      3.000000      2.000000  \n",
       "75%            3.000000      2.000000      4.000000      4.000000  \n",
       "max            8.000000     13.000000      9.000000     20.000000  "
      ]
     },
     "execution_count": 5,
     "metadata": {},
     "output_type": "execute_result"
    }
   ],
   "source": [
    "data.describe()"
   ]
  },
  {
   "cell_type": "code",
   "execution_count": 6,
   "id": "50daaa9b",
   "metadata": {},
   "outputs": [
    {
     "data": {
      "text/html": [
       "<div>\n",
       "<style scoped>\n",
       "    .dataframe tbody tr th:only-of-type {\n",
       "        vertical-align: middle;\n",
       "    }\n",
       "\n",
       "    .dataframe tbody tr th {\n",
       "        vertical-align: top;\n",
       "    }\n",
       "\n",
       "    .dataframe thead th {\n",
       "        text-align: right;\n",
       "    }\n",
       "</style>\n",
       "<table border=\"1\" class=\"dataframe\">\n",
       "  <thead>\n",
       "    <tr style=\"text-align: right;\">\n",
       "      <th></th>\n",
       "      <th>Month</th>\n",
       "      <th>VisitorType</th>\n",
       "    </tr>\n",
       "  </thead>\n",
       "  <tbody>\n",
       "    <tr>\n",
       "      <th>count</th>\n",
       "      <td>12330</td>\n",
       "      <td>12330</td>\n",
       "    </tr>\n",
       "    <tr>\n",
       "      <th>unique</th>\n",
       "      <td>10</td>\n",
       "      <td>3</td>\n",
       "    </tr>\n",
       "    <tr>\n",
       "      <th>top</th>\n",
       "      <td>May</td>\n",
       "      <td>Returning_Visitor</td>\n",
       "    </tr>\n",
       "    <tr>\n",
       "      <th>freq</th>\n",
       "      <td>3364</td>\n",
       "      <td>10551</td>\n",
       "    </tr>\n",
       "  </tbody>\n",
       "</table>\n",
       "</div>"
      ],
      "text/plain": [
       "        Month        VisitorType\n",
       "count   12330              12330\n",
       "unique     10                  3\n",
       "top       May  Returning_Visitor\n",
       "freq     3364              10551"
      ]
     },
     "execution_count": 6,
     "metadata": {},
     "output_type": "execute_result"
    }
   ],
   "source": [
    "data.describe(include='O')"
   ]
  },
  {
   "cell_type": "code",
   "execution_count": 7,
   "id": "43bac363",
   "metadata": {},
   "outputs": [
    {
     "data": {
      "text/plain": [
       "Administrative             0\n",
       "Administrative_Duration    0\n",
       "Informational              0\n",
       "Informational_Duration     0\n",
       "ProductRelated             0\n",
       "ProductRelated_Duration    0\n",
       "BounceRates                0\n",
       "ExitRates                  0\n",
       "PageValues                 0\n",
       "SpecialDay                 0\n",
       "Month                      0\n",
       "OperatingSystems           0\n",
       "Browser                    0\n",
       "Region                     0\n",
       "TrafficType                0\n",
       "VisitorType                0\n",
       "Weekend                    0\n",
       "Revenue                    0\n",
       "dtype: int64"
      ]
     },
     "execution_count": 7,
     "metadata": {},
     "output_type": "execute_result"
    }
   ],
   "source": [
    "data.isnull().sum()"
   ]
  },
  {
   "cell_type": "markdown",
   "id": "def6b7d9",
   "metadata": {},
   "source": [
    "### Attribute Correlations"
   ]
  },
  {
   "cell_type": "code",
   "execution_count": 10,
   "id": "376dc6ea",
   "metadata": {},
   "outputs": [
    {
     "data": {
      "text/html": [
       "<div>\n",
       "<style scoped>\n",
       "    .dataframe tbody tr th:only-of-type {\n",
       "        vertical-align: middle;\n",
       "    }\n",
       "\n",
       "    .dataframe tbody tr th {\n",
       "        vertical-align: top;\n",
       "    }\n",
       "\n",
       "    .dataframe thead th {\n",
       "        text-align: right;\n",
       "    }\n",
       "</style>\n",
       "<table border=\"1\" class=\"dataframe\">\n",
       "  <thead>\n",
       "    <tr style=\"text-align: right;\">\n",
       "      <th></th>\n",
       "      <th>Administrative</th>\n",
       "      <th>Administrative_Duration</th>\n",
       "      <th>Informational</th>\n",
       "      <th>Informational_Duration</th>\n",
       "      <th>ProductRelated</th>\n",
       "      <th>ProductRelated_Duration</th>\n",
       "      <th>BounceRates</th>\n",
       "      <th>ExitRates</th>\n",
       "      <th>PageValues</th>\n",
       "      <th>SpecialDay</th>\n",
       "      <th>OperatingSystems</th>\n",
       "      <th>Browser</th>\n",
       "      <th>Region</th>\n",
       "      <th>TrafficType</th>\n",
       "      <th>Weekend</th>\n",
       "      <th>Revenue</th>\n",
       "    </tr>\n",
       "  </thead>\n",
       "  <tbody>\n",
       "    <tr>\n",
       "      <th>Administrative</th>\n",
       "      <td>1.000000</td>\n",
       "      <td>0.601583</td>\n",
       "      <td>0.376850</td>\n",
       "      <td>0.255848</td>\n",
       "      <td>0.431119</td>\n",
       "      <td>0.373939</td>\n",
       "      <td>-0.223563</td>\n",
       "      <td>-0.316483</td>\n",
       "      <td>0.098990</td>\n",
       "      <td>-0.094778</td>\n",
       "      <td>-0.006347</td>\n",
       "      <td>-0.025035</td>\n",
       "      <td>-0.005487</td>\n",
       "      <td>-0.033561</td>\n",
       "      <td>0.026417</td>\n",
       "      <td>0.138917</td>\n",
       "    </tr>\n",
       "    <tr>\n",
       "      <th>Administrative_Duration</th>\n",
       "      <td>0.601583</td>\n",
       "      <td>1.000000</td>\n",
       "      <td>0.302710</td>\n",
       "      <td>0.238031</td>\n",
       "      <td>0.289087</td>\n",
       "      <td>0.355422</td>\n",
       "      <td>-0.144170</td>\n",
       "      <td>-0.205798</td>\n",
       "      <td>0.067608</td>\n",
       "      <td>-0.073304</td>\n",
       "      <td>-0.007343</td>\n",
       "      <td>-0.015392</td>\n",
       "      <td>-0.005561</td>\n",
       "      <td>-0.014376</td>\n",
       "      <td>0.014990</td>\n",
       "      <td>0.093587</td>\n",
       "    </tr>\n",
       "    <tr>\n",
       "      <th>Informational</th>\n",
       "      <td>0.376850</td>\n",
       "      <td>0.302710</td>\n",
       "      <td>1.000000</td>\n",
       "      <td>0.618955</td>\n",
       "      <td>0.374164</td>\n",
       "      <td>0.387505</td>\n",
       "      <td>-0.116114</td>\n",
       "      <td>-0.163666</td>\n",
       "      <td>0.048632</td>\n",
       "      <td>-0.048219</td>\n",
       "      <td>-0.009527</td>\n",
       "      <td>-0.038235</td>\n",
       "      <td>-0.029169</td>\n",
       "      <td>-0.034491</td>\n",
       "      <td>0.035785</td>\n",
       "      <td>0.095200</td>\n",
       "    </tr>\n",
       "    <tr>\n",
       "      <th>Informational_Duration</th>\n",
       "      <td>0.255848</td>\n",
       "      <td>0.238031</td>\n",
       "      <td>0.618955</td>\n",
       "      <td>1.000000</td>\n",
       "      <td>0.280046</td>\n",
       "      <td>0.347364</td>\n",
       "      <td>-0.074067</td>\n",
       "      <td>-0.105276</td>\n",
       "      <td>0.030861</td>\n",
       "      <td>-0.030577</td>\n",
       "      <td>-0.009579</td>\n",
       "      <td>-0.019285</td>\n",
       "      <td>-0.027144</td>\n",
       "      <td>-0.024675</td>\n",
       "      <td>0.024078</td>\n",
       "      <td>0.070345</td>\n",
       "    </tr>\n",
       "    <tr>\n",
       "      <th>ProductRelated</th>\n",
       "      <td>0.431119</td>\n",
       "      <td>0.289087</td>\n",
       "      <td>0.374164</td>\n",
       "      <td>0.280046</td>\n",
       "      <td>1.000000</td>\n",
       "      <td>0.860927</td>\n",
       "      <td>-0.204578</td>\n",
       "      <td>-0.292526</td>\n",
       "      <td>0.056282</td>\n",
       "      <td>-0.023958</td>\n",
       "      <td>0.004290</td>\n",
       "      <td>-0.013146</td>\n",
       "      <td>-0.038122</td>\n",
       "      <td>-0.043064</td>\n",
       "      <td>0.016092</td>\n",
       "      <td>0.158538</td>\n",
       "    </tr>\n",
       "    <tr>\n",
       "      <th>ProductRelated_Duration</th>\n",
       "      <td>0.373939</td>\n",
       "      <td>0.355422</td>\n",
       "      <td>0.387505</td>\n",
       "      <td>0.347364</td>\n",
       "      <td>0.860927</td>\n",
       "      <td>1.000000</td>\n",
       "      <td>-0.184541</td>\n",
       "      <td>-0.251984</td>\n",
       "      <td>0.052823</td>\n",
       "      <td>-0.036380</td>\n",
       "      <td>0.002976</td>\n",
       "      <td>-0.007380</td>\n",
       "      <td>-0.033091</td>\n",
       "      <td>-0.036377</td>\n",
       "      <td>0.007311</td>\n",
       "      <td>0.152373</td>\n",
       "    </tr>\n",
       "    <tr>\n",
       "      <th>BounceRates</th>\n",
       "      <td>-0.223563</td>\n",
       "      <td>-0.144170</td>\n",
       "      <td>-0.116114</td>\n",
       "      <td>-0.074067</td>\n",
       "      <td>-0.204578</td>\n",
       "      <td>-0.184541</td>\n",
       "      <td>1.000000</td>\n",
       "      <td>0.913004</td>\n",
       "      <td>-0.119386</td>\n",
       "      <td>0.072702</td>\n",
       "      <td>0.023823</td>\n",
       "      <td>-0.015772</td>\n",
       "      <td>-0.006485</td>\n",
       "      <td>0.078286</td>\n",
       "      <td>-0.046514</td>\n",
       "      <td>-0.150673</td>\n",
       "    </tr>\n",
       "    <tr>\n",
       "      <th>ExitRates</th>\n",
       "      <td>-0.316483</td>\n",
       "      <td>-0.205798</td>\n",
       "      <td>-0.163666</td>\n",
       "      <td>-0.105276</td>\n",
       "      <td>-0.292526</td>\n",
       "      <td>-0.251984</td>\n",
       "      <td>0.913004</td>\n",
       "      <td>1.000000</td>\n",
       "      <td>-0.174498</td>\n",
       "      <td>0.102242</td>\n",
       "      <td>0.014567</td>\n",
       "      <td>-0.004442</td>\n",
       "      <td>-0.008907</td>\n",
       "      <td>0.078616</td>\n",
       "      <td>-0.062587</td>\n",
       "      <td>-0.207071</td>\n",
       "    </tr>\n",
       "    <tr>\n",
       "      <th>PageValues</th>\n",
       "      <td>0.098990</td>\n",
       "      <td>0.067608</td>\n",
       "      <td>0.048632</td>\n",
       "      <td>0.030861</td>\n",
       "      <td>0.056282</td>\n",
       "      <td>0.052823</td>\n",
       "      <td>-0.119386</td>\n",
       "      <td>-0.174498</td>\n",
       "      <td>1.000000</td>\n",
       "      <td>-0.063541</td>\n",
       "      <td>0.018508</td>\n",
       "      <td>0.045592</td>\n",
       "      <td>0.011315</td>\n",
       "      <td>0.012532</td>\n",
       "      <td>0.012002</td>\n",
       "      <td>0.492569</td>\n",
       "    </tr>\n",
       "    <tr>\n",
       "      <th>SpecialDay</th>\n",
       "      <td>-0.094778</td>\n",
       "      <td>-0.073304</td>\n",
       "      <td>-0.048219</td>\n",
       "      <td>-0.030577</td>\n",
       "      <td>-0.023958</td>\n",
       "      <td>-0.036380</td>\n",
       "      <td>0.072702</td>\n",
       "      <td>0.102242</td>\n",
       "      <td>-0.063541</td>\n",
       "      <td>1.000000</td>\n",
       "      <td>0.012652</td>\n",
       "      <td>0.003499</td>\n",
       "      <td>-0.016098</td>\n",
       "      <td>0.052301</td>\n",
       "      <td>-0.016767</td>\n",
       "      <td>-0.082305</td>\n",
       "    </tr>\n",
       "    <tr>\n",
       "      <th>OperatingSystems</th>\n",
       "      <td>-0.006347</td>\n",
       "      <td>-0.007343</td>\n",
       "      <td>-0.009527</td>\n",
       "      <td>-0.009579</td>\n",
       "      <td>0.004290</td>\n",
       "      <td>0.002976</td>\n",
       "      <td>0.023823</td>\n",
       "      <td>0.014567</td>\n",
       "      <td>0.018508</td>\n",
       "      <td>0.012652</td>\n",
       "      <td>1.000000</td>\n",
       "      <td>0.223013</td>\n",
       "      <td>0.076775</td>\n",
       "      <td>0.189154</td>\n",
       "      <td>0.000284</td>\n",
       "      <td>-0.014668</td>\n",
       "    </tr>\n",
       "    <tr>\n",
       "      <th>Browser</th>\n",
       "      <td>-0.025035</td>\n",
       "      <td>-0.015392</td>\n",
       "      <td>-0.038235</td>\n",
       "      <td>-0.019285</td>\n",
       "      <td>-0.013146</td>\n",
       "      <td>-0.007380</td>\n",
       "      <td>-0.015772</td>\n",
       "      <td>-0.004442</td>\n",
       "      <td>0.045592</td>\n",
       "      <td>0.003499</td>\n",
       "      <td>0.223013</td>\n",
       "      <td>1.000000</td>\n",
       "      <td>0.097393</td>\n",
       "      <td>0.111938</td>\n",
       "      <td>-0.040261</td>\n",
       "      <td>0.023984</td>\n",
       "    </tr>\n",
       "    <tr>\n",
       "      <th>Region</th>\n",
       "      <td>-0.005487</td>\n",
       "      <td>-0.005561</td>\n",
       "      <td>-0.029169</td>\n",
       "      <td>-0.027144</td>\n",
       "      <td>-0.038122</td>\n",
       "      <td>-0.033091</td>\n",
       "      <td>-0.006485</td>\n",
       "      <td>-0.008907</td>\n",
       "      <td>0.011315</td>\n",
       "      <td>-0.016098</td>\n",
       "      <td>0.076775</td>\n",
       "      <td>0.097393</td>\n",
       "      <td>1.000000</td>\n",
       "      <td>0.047520</td>\n",
       "      <td>-0.000691</td>\n",
       "      <td>-0.011595</td>\n",
       "    </tr>\n",
       "    <tr>\n",
       "      <th>TrafficType</th>\n",
       "      <td>-0.033561</td>\n",
       "      <td>-0.014376</td>\n",
       "      <td>-0.034491</td>\n",
       "      <td>-0.024675</td>\n",
       "      <td>-0.043064</td>\n",
       "      <td>-0.036377</td>\n",
       "      <td>0.078286</td>\n",
       "      <td>0.078616</td>\n",
       "      <td>0.012532</td>\n",
       "      <td>0.052301</td>\n",
       "      <td>0.189154</td>\n",
       "      <td>0.111938</td>\n",
       "      <td>0.047520</td>\n",
       "      <td>1.000000</td>\n",
       "      <td>-0.002221</td>\n",
       "      <td>-0.005113</td>\n",
       "    </tr>\n",
       "    <tr>\n",
       "      <th>Weekend</th>\n",
       "      <td>0.026417</td>\n",
       "      <td>0.014990</td>\n",
       "      <td>0.035785</td>\n",
       "      <td>0.024078</td>\n",
       "      <td>0.016092</td>\n",
       "      <td>0.007311</td>\n",
       "      <td>-0.046514</td>\n",
       "      <td>-0.062587</td>\n",
       "      <td>0.012002</td>\n",
       "      <td>-0.016767</td>\n",
       "      <td>0.000284</td>\n",
       "      <td>-0.040261</td>\n",
       "      <td>-0.000691</td>\n",
       "      <td>-0.002221</td>\n",
       "      <td>1.000000</td>\n",
       "      <td>0.029295</td>\n",
       "    </tr>\n",
       "    <tr>\n",
       "      <th>Revenue</th>\n",
       "      <td>0.138917</td>\n",
       "      <td>0.093587</td>\n",
       "      <td>0.095200</td>\n",
       "      <td>0.070345</td>\n",
       "      <td>0.158538</td>\n",
       "      <td>0.152373</td>\n",
       "      <td>-0.150673</td>\n",
       "      <td>-0.207071</td>\n",
       "      <td>0.492569</td>\n",
       "      <td>-0.082305</td>\n",
       "      <td>-0.014668</td>\n",
       "      <td>0.023984</td>\n",
       "      <td>-0.011595</td>\n",
       "      <td>-0.005113</td>\n",
       "      <td>0.029295</td>\n",
       "      <td>1.000000</td>\n",
       "    </tr>\n",
       "  </tbody>\n",
       "</table>\n",
       "</div>"
      ],
      "text/plain": [
       "                         Administrative  Administrative_Duration  \\\n",
       "Administrative                 1.000000                 0.601583   \n",
       "Administrative_Duration        0.601583                 1.000000   \n",
       "Informational                  0.376850                 0.302710   \n",
       "Informational_Duration         0.255848                 0.238031   \n",
       "ProductRelated                 0.431119                 0.289087   \n",
       "ProductRelated_Duration        0.373939                 0.355422   \n",
       "BounceRates                   -0.223563                -0.144170   \n",
       "ExitRates                     -0.316483                -0.205798   \n",
       "PageValues                     0.098990                 0.067608   \n",
       "SpecialDay                    -0.094778                -0.073304   \n",
       "OperatingSystems              -0.006347                -0.007343   \n",
       "Browser                       -0.025035                -0.015392   \n",
       "Region                        -0.005487                -0.005561   \n",
       "TrafficType                   -0.033561                -0.014376   \n",
       "Weekend                        0.026417                 0.014990   \n",
       "Revenue                        0.138917                 0.093587   \n",
       "\n",
       "                         Informational  Informational_Duration  \\\n",
       "Administrative                0.376850                0.255848   \n",
       "Administrative_Duration       0.302710                0.238031   \n",
       "Informational                 1.000000                0.618955   \n",
       "Informational_Duration        0.618955                1.000000   \n",
       "ProductRelated                0.374164                0.280046   \n",
       "ProductRelated_Duration       0.387505                0.347364   \n",
       "BounceRates                  -0.116114               -0.074067   \n",
       "ExitRates                    -0.163666               -0.105276   \n",
       "PageValues                    0.048632                0.030861   \n",
       "SpecialDay                   -0.048219               -0.030577   \n",
       "OperatingSystems             -0.009527               -0.009579   \n",
       "Browser                      -0.038235               -0.019285   \n",
       "Region                       -0.029169               -0.027144   \n",
       "TrafficType                  -0.034491               -0.024675   \n",
       "Weekend                       0.035785                0.024078   \n",
       "Revenue                       0.095200                0.070345   \n",
       "\n",
       "                         ProductRelated  ProductRelated_Duration  BounceRates  \\\n",
       "Administrative                 0.431119                 0.373939    -0.223563   \n",
       "Administrative_Duration        0.289087                 0.355422    -0.144170   \n",
       "Informational                  0.374164                 0.387505    -0.116114   \n",
       "Informational_Duration         0.280046                 0.347364    -0.074067   \n",
       "ProductRelated                 1.000000                 0.860927    -0.204578   \n",
       "ProductRelated_Duration        0.860927                 1.000000    -0.184541   \n",
       "BounceRates                   -0.204578                -0.184541     1.000000   \n",
       "ExitRates                     -0.292526                -0.251984     0.913004   \n",
       "PageValues                     0.056282                 0.052823    -0.119386   \n",
       "SpecialDay                    -0.023958                -0.036380     0.072702   \n",
       "OperatingSystems               0.004290                 0.002976     0.023823   \n",
       "Browser                       -0.013146                -0.007380    -0.015772   \n",
       "Region                        -0.038122                -0.033091    -0.006485   \n",
       "TrafficType                   -0.043064                -0.036377     0.078286   \n",
       "Weekend                        0.016092                 0.007311    -0.046514   \n",
       "Revenue                        0.158538                 0.152373    -0.150673   \n",
       "\n",
       "                         ExitRates  PageValues  SpecialDay  OperatingSystems  \\\n",
       "Administrative           -0.316483    0.098990   -0.094778         -0.006347   \n",
       "Administrative_Duration  -0.205798    0.067608   -0.073304         -0.007343   \n",
       "Informational            -0.163666    0.048632   -0.048219         -0.009527   \n",
       "Informational_Duration   -0.105276    0.030861   -0.030577         -0.009579   \n",
       "ProductRelated           -0.292526    0.056282   -0.023958          0.004290   \n",
       "ProductRelated_Duration  -0.251984    0.052823   -0.036380          0.002976   \n",
       "BounceRates               0.913004   -0.119386    0.072702          0.023823   \n",
       "ExitRates                 1.000000   -0.174498    0.102242          0.014567   \n",
       "PageValues               -0.174498    1.000000   -0.063541          0.018508   \n",
       "SpecialDay                0.102242   -0.063541    1.000000          0.012652   \n",
       "OperatingSystems          0.014567    0.018508    0.012652          1.000000   \n",
       "Browser                  -0.004442    0.045592    0.003499          0.223013   \n",
       "Region                   -0.008907    0.011315   -0.016098          0.076775   \n",
       "TrafficType               0.078616    0.012532    0.052301          0.189154   \n",
       "Weekend                  -0.062587    0.012002   -0.016767          0.000284   \n",
       "Revenue                  -0.207071    0.492569   -0.082305         -0.014668   \n",
       "\n",
       "                          Browser    Region  TrafficType   Weekend   Revenue  \n",
       "Administrative          -0.025035 -0.005487    -0.033561  0.026417  0.138917  \n",
       "Administrative_Duration -0.015392 -0.005561    -0.014376  0.014990  0.093587  \n",
       "Informational           -0.038235 -0.029169    -0.034491  0.035785  0.095200  \n",
       "Informational_Duration  -0.019285 -0.027144    -0.024675  0.024078  0.070345  \n",
       "ProductRelated          -0.013146 -0.038122    -0.043064  0.016092  0.158538  \n",
       "ProductRelated_Duration -0.007380 -0.033091    -0.036377  0.007311  0.152373  \n",
       "BounceRates             -0.015772 -0.006485     0.078286 -0.046514 -0.150673  \n",
       "ExitRates               -0.004442 -0.008907     0.078616 -0.062587 -0.207071  \n",
       "PageValues               0.045592  0.011315     0.012532  0.012002  0.492569  \n",
       "SpecialDay               0.003499 -0.016098     0.052301 -0.016767 -0.082305  \n",
       "OperatingSystems         0.223013  0.076775     0.189154  0.000284 -0.014668  \n",
       "Browser                  1.000000  0.097393     0.111938 -0.040261  0.023984  \n",
       "Region                   0.097393  1.000000     0.047520 -0.000691 -0.011595  \n",
       "TrafficType              0.111938  0.047520     1.000000 -0.002221 -0.005113  \n",
       "Weekend                 -0.040261 -0.000691    -0.002221  1.000000  0.029295  \n",
       "Revenue                  0.023984 -0.011595    -0.005113  0.029295  1.000000  "
      ]
     },
     "execution_count": 10,
     "metadata": {},
     "output_type": "execute_result"
    }
   ],
   "source": [
    "data_corr = data.corr()\n",
    "data_corr"
   ]
  },
  {
   "cell_type": "code",
   "execution_count": 17,
   "id": "ac9038e2",
   "metadata": {},
   "outputs": [
    {
     "data": {
      "image/png": "[encoded data removed]",
      "text/plain": [
       "<Figure size 1152x648 with 2 Axes>"
      ]
     },
     "metadata": {},
     "output_type": "display_data"
    }
   ],
   "source": [
    "plt.figure(figsize=(16,9))\n",
    "sns.heatmap(data_corr, cmap='Reds', annot=True);"
   ]
  },
  {
   "cell_type": "code",
   "execution_count": 19,
   "id": "76876f1d",
   "metadata": {},
   "outputs": [
    {
     "name": "stderr",
     "output_type": "stream",
     "text": [
      "E:\\Phython\\lib\\site-packages\\seaborn\\_decorators.py:36: FutureWarning: Pass the following variable as a keyword arg: x. From version 0.12, the only valid positional argument will be `data`, and passing other arguments without an explicit keyword will result in an error or misinterpretation.\n",
      "  warnings.warn(\n",
      "E:\\Phython\\lib\\site-packages\\seaborn\\_decorators.py:36: FutureWarning: Pass the following variable as a keyword arg: x. From version 0.12, the only valid positional argument will be `data`, and passing other arguments without an explicit keyword will result in an error or misinterpretation.\n",
      "  warnings.warn(\n"
     ]
    },
    {
     "data": {
      "image/png": "[encoded data removed]",
      "text/plain": [
       "<Figure size 1152x432 with 2 Axes>"
      ]
     },
     "metadata": {},
     "output_type": "display_data"
    }
   ],
   "source": [
    "plt.figure(figsize=(16,6))\n",
    "plt.subplot(1,2,1)\n",
    "sns.countplot(data['Revenue'], palette='pastel')\n",
    "\n",
    "plt.subplot(1,2,2)\n",
    "sns.countplot(data['Weekend'],  palette='inferno');"
   ]
  },
  {
   "cell_type": "code",
   "execution_count": 22,
   "id": "caa91b74",
   "metadata": {},
   "outputs": [
    {
     "data": {
      "image/png": "[encoded data removed]",
      "text/plain": [
       "<Figure size 432x288 with 1 Axes>"
      ]
     },
     "metadata": {},
     "output_type": "display_data"
    }
   ],
   "source": [
    "plt.hist(data['Region'], color='lightblue');"
   ]
  },
  {
   "cell_type": "markdown",
   "id": "1c4b2e7d",
   "metadata": {},
   "source": [
    "### Data Preprocessing"
   ]
  },
  {
   "cell_type": "code",
   "execution_count": 26,
   "id": "c73b55ef",
   "metadata": {},
   "outputs": [],
   "source": [
    "from sklearn.preprocessing import MinMaxScaler, LabelEncoder\n",
    "scaler = MinMaxScaler()\n",
    "LE = LabelEncoder()"
   ]
  },
  {
   "cell_type": "markdown",
   "id": "d7c2bab7",
   "metadata": {},
   "source": [
    "#### Scaling"
   ]
  },
  {
   "cell_type": "markdown",
   "id": "0ba1933a",
   "metadata": {},
   "source": [
    "Beberapa machine learning seperti K-NN dan gradient descent mengharuskan semua variabel memiliki rentang nilai yang sama, karena jika tidak sama, feature dengan rentang nilai terbesar misalnya ProductRelated_Duration otomatis akan menjadi feature yang paling mendominasi dalam proses training/komputasi, sehingga model yang dihasilkan pun akan sangat bias. Oleh karena itu, sebelum memulai training model, kita terlebih dahulu perlu melakukan data rescaling ke dalam rentang 0 dan 1, sehingga semua feature berada dalam rentang nilai tersebut, yaitu nilai max = 1 dan nilai min = 0."
   ]
  },
  {
   "cell_type": "code",
   "execution_count": 35,
   "id": "dc0b14eb",
   "metadata": {},
   "outputs": [],
   "source": [
    "scaling_columns = ['Administrative', 'Administrative_Duration', 'Informational', 'Informational_Duration', 'ProductRelated', 'ProductRelated_Duration', 'BounceRates', 'ExitRates', 'PageValues']"
   ]
  },
  {
   "cell_type": "code",
   "execution_count": 36,
   "id": "5e2cddbc",
   "metadata": {},
   "outputs": [],
   "source": [
    "data[scaling_columns] = scaler.fit_transform(data[scaling_columns])"
   ]
  },
  {
   "cell_type": "code",
   "execution_count": 37,
   "id": "295aa61e",
   "metadata": {},
   "outputs": [
    {
     "data": {
      "text/html": [
       "<div>\n",
       "<style scoped>\n",
       "    .dataframe tbody tr th:only-of-type {\n",
       "        vertical-align: middle;\n",
       "    }\n",
       "\n",
       "    .dataframe tbody tr th {\n",
       "        vertical-align: top;\n",
       "    }\n",
       "\n",
       "    .dataframe thead th {\n",
       "        text-align: right;\n",
       "    }\n",
       "</style>\n",
       "<table border=\"1\" class=\"dataframe\">\n",
       "  <thead>\n",
       "    <tr style=\"text-align: right;\">\n",
       "      <th></th>\n",
       "      <th>min</th>\n",
       "      <th>max</th>\n",
       "    </tr>\n",
       "  </thead>\n",
       "  <tbody>\n",
       "    <tr>\n",
       "      <th>Administrative</th>\n",
       "      <td>0.0</td>\n",
       "      <td>1.0</td>\n",
       "    </tr>\n",
       "    <tr>\n",
       "      <th>Administrative_Duration</th>\n",
       "      <td>0.0</td>\n",
       "      <td>1.0</td>\n",
       "    </tr>\n",
       "    <tr>\n",
       "      <th>Informational</th>\n",
       "      <td>0.0</td>\n",
       "      <td>1.0</td>\n",
       "    </tr>\n",
       "    <tr>\n",
       "      <th>Informational_Duration</th>\n",
       "      <td>0.0</td>\n",
       "      <td>1.0</td>\n",
       "    </tr>\n",
       "    <tr>\n",
       "      <th>ProductRelated</th>\n",
       "      <td>0.0</td>\n",
       "      <td>1.0</td>\n",
       "    </tr>\n",
       "    <tr>\n",
       "      <th>ProductRelated_Duration</th>\n",
       "      <td>0.0</td>\n",
       "      <td>1.0</td>\n",
       "    </tr>\n",
       "    <tr>\n",
       "      <th>BounceRates</th>\n",
       "      <td>0.0</td>\n",
       "      <td>1.0</td>\n",
       "    </tr>\n",
       "    <tr>\n",
       "      <th>ExitRates</th>\n",
       "      <td>0.0</td>\n",
       "      <td>1.0</td>\n",
       "    </tr>\n",
       "    <tr>\n",
       "      <th>PageValues</th>\n",
       "      <td>0.0</td>\n",
       "      <td>1.0</td>\n",
       "    </tr>\n",
       "  </tbody>\n",
       "</table>\n",
       "</div>"
      ],
      "text/plain": [
       "                         min  max\n",
       "Administrative           0.0  1.0\n",
       "Administrative_Duration  0.0  1.0\n",
       "Informational            0.0  1.0\n",
       "Informational_Duration   0.0  1.0\n",
       "ProductRelated           0.0  1.0\n",
       "ProductRelated_Duration  0.0  1.0\n",
       "BounceRates              0.0  1.0\n",
       "ExitRates                0.0  1.0\n",
       "PageValues               0.0  1.0"
      ]
     },
     "execution_count": 37,
     "metadata": {},
     "output_type": "execute_result"
    }
   ],
   "source": [
    "data[scaling_columns].describe().T[['min', 'max']]"
   ]
  },
  {
   "cell_type": "markdown",
   "id": "9b7e802a",
   "metadata": {},
   "source": [
    "#### Label Encoder"
   ]
  },
  {
   "cell_type": "markdown",
   "id": "667fe202",
   "metadata": {},
   "source": [
    "Karena setiap algoritma machine learning bekerja dengan menggunakan nilai numeris, maka kita perlu mengubah kolom dengan tipe pandas object atau str ini ke bertipe numeris."
   ]
  },
  {
   "cell_type": "code",
   "execution_count": 27,
   "id": "1da793b6",
   "metadata": {},
   "outputs": [],
   "source": [
    "data['Month'] = LE.fit_transform(data['Month'])"
   ]
  },
  {
   "cell_type": "code",
   "execution_count": 28,
   "id": "74e0e3db",
   "metadata": {},
   "outputs": [
    {
     "data": {
      "text/plain": [
       "array(['Aug', 'Dec', 'Feb', 'Jul', 'June', 'Mar', 'May', 'Nov', 'Oct',\n",
       "       'Sep'], dtype=object)"
      ]
     },
     "execution_count": 28,
     "metadata": {},
     "output_type": "execute_result"
    }
   ],
   "source": [
    "LE.classes_"
   ]
  },
  {
   "cell_type": "code",
   "execution_count": 29,
   "id": "0af7514b",
   "metadata": {},
   "outputs": [
    {
     "data": {
      "text/plain": [
       "array([0, 1, 2, 3, 4, 5, 6, 7, 8, 9])"
      ]
     },
     "execution_count": 29,
     "metadata": {},
     "output_type": "execute_result"
    }
   ],
   "source": [
    "np.sort(data['Month'].unique())"
   ]
  },
  {
   "cell_type": "code",
   "execution_count": 30,
   "id": "40512209",
   "metadata": {},
   "outputs": [],
   "source": [
    "data['VisitorType'] = LE.fit_transform(data['VisitorType'])"
   ]
  },
  {
   "cell_type": "code",
   "execution_count": 31,
   "id": "60588667",
   "metadata": {},
   "outputs": [
    {
     "data": {
      "text/plain": [
       "array(['New_Visitor', 'Other', 'Returning_Visitor'], dtype=object)"
      ]
     },
     "execution_count": 31,
     "metadata": {},
     "output_type": "execute_result"
    }
   ],
   "source": [
    "LE.classes_"
   ]
  },
  {
   "cell_type": "code",
   "execution_count": 32,
   "id": "711fc1ae",
   "metadata": {},
   "outputs": [
    {
     "data": {
      "text/plain": [
       "array([0, 1, 2])"
      ]
     },
     "execution_count": 32,
     "metadata": {},
     "output_type": "execute_result"
    }
   ],
   "source": [
    "np.sort(data['VisitorType'].unique())"
   ]
  },
  {
   "cell_type": "code",
   "execution_count": 38,
   "id": "418ed841",
   "metadata": {},
   "outputs": [
    {
     "data": {
      "text/html": [
       "<div>\n",
       "<style scoped>\n",
       "    .dataframe tbody tr th:only-of-type {\n",
       "        vertical-align: middle;\n",
       "    }\n",
       "\n",
       "    .dataframe tbody tr th {\n",
       "        vertical-align: top;\n",
       "    }\n",
       "\n",
       "    .dataframe thead th {\n",
       "        text-align: right;\n",
       "    }\n",
       "</style>\n",
       "<table border=\"1\" class=\"dataframe\">\n",
       "  <thead>\n",
       "    <tr style=\"text-align: right;\">\n",
       "      <th></th>\n",
       "      <th>Administrative</th>\n",
       "      <th>Administrative_Duration</th>\n",
       "      <th>Informational</th>\n",
       "      <th>Informational_Duration</th>\n",
       "      <th>ProductRelated</th>\n",
       "      <th>ProductRelated_Duration</th>\n",
       "      <th>BounceRates</th>\n",
       "      <th>ExitRates</th>\n",
       "      <th>PageValues</th>\n",
       "      <th>SpecialDay</th>\n",
       "      <th>Month</th>\n",
       "      <th>OperatingSystems</th>\n",
       "      <th>Browser</th>\n",
       "      <th>Region</th>\n",
       "      <th>TrafficType</th>\n",
       "      <th>VisitorType</th>\n",
       "      <th>Weekend</th>\n",
       "      <th>Revenue</th>\n",
       "    </tr>\n",
       "  </thead>\n",
       "  <tbody>\n",
       "    <tr>\n",
       "      <th>0</th>\n",
       "      <td>0.0</td>\n",
       "      <td>0.0</td>\n",
       "      <td>0.0</td>\n",
       "      <td>0.0</td>\n",
       "      <td>0.001418</td>\n",
       "      <td>0.000000</td>\n",
       "      <td>1.00</td>\n",
       "      <td>1.00</td>\n",
       "      <td>0.0</td>\n",
       "      <td>0.0</td>\n",
       "      <td>2</td>\n",
       "      <td>1</td>\n",
       "      <td>1</td>\n",
       "      <td>1</td>\n",
       "      <td>1</td>\n",
       "      <td>2</td>\n",
       "      <td>False</td>\n",
       "      <td>False</td>\n",
       "    </tr>\n",
       "    <tr>\n",
       "      <th>1</th>\n",
       "      <td>0.0</td>\n",
       "      <td>0.0</td>\n",
       "      <td>0.0</td>\n",
       "      <td>0.0</td>\n",
       "      <td>0.002837</td>\n",
       "      <td>0.001000</td>\n",
       "      <td>0.00</td>\n",
       "      <td>0.50</td>\n",
       "      <td>0.0</td>\n",
       "      <td>0.0</td>\n",
       "      <td>2</td>\n",
       "      <td>2</td>\n",
       "      <td>2</td>\n",
       "      <td>1</td>\n",
       "      <td>2</td>\n",
       "      <td>2</td>\n",
       "      <td>False</td>\n",
       "      <td>False</td>\n",
       "    </tr>\n",
       "    <tr>\n",
       "      <th>2</th>\n",
       "      <td>0.0</td>\n",
       "      <td>0.0</td>\n",
       "      <td>0.0</td>\n",
       "      <td>0.0</td>\n",
       "      <td>0.001418</td>\n",
       "      <td>0.000000</td>\n",
       "      <td>1.00</td>\n",
       "      <td>1.00</td>\n",
       "      <td>0.0</td>\n",
       "      <td>0.0</td>\n",
       "      <td>2</td>\n",
       "      <td>4</td>\n",
       "      <td>1</td>\n",
       "      <td>9</td>\n",
       "      <td>3</td>\n",
       "      <td>2</td>\n",
       "      <td>False</td>\n",
       "      <td>False</td>\n",
       "    </tr>\n",
       "    <tr>\n",
       "      <th>3</th>\n",
       "      <td>0.0</td>\n",
       "      <td>0.0</td>\n",
       "      <td>0.0</td>\n",
       "      <td>0.0</td>\n",
       "      <td>0.002837</td>\n",
       "      <td>0.000042</td>\n",
       "      <td>0.25</td>\n",
       "      <td>0.70</td>\n",
       "      <td>0.0</td>\n",
       "      <td>0.0</td>\n",
       "      <td>2</td>\n",
       "      <td>3</td>\n",
       "      <td>2</td>\n",
       "      <td>2</td>\n",
       "      <td>4</td>\n",
       "      <td>2</td>\n",
       "      <td>False</td>\n",
       "      <td>False</td>\n",
       "    </tr>\n",
       "    <tr>\n",
       "      <th>4</th>\n",
       "      <td>0.0</td>\n",
       "      <td>0.0</td>\n",
       "      <td>0.0</td>\n",
       "      <td>0.0</td>\n",
       "      <td>0.014184</td>\n",
       "      <td>0.009809</td>\n",
       "      <td>0.10</td>\n",
       "      <td>0.25</td>\n",
       "      <td>0.0</td>\n",
       "      <td>0.0</td>\n",
       "      <td>2</td>\n",
       "      <td>3</td>\n",
       "      <td>3</td>\n",
       "      <td>1</td>\n",
       "      <td>4</td>\n",
       "      <td>2</td>\n",
       "      <td>True</td>\n",
       "      <td>False</td>\n",
       "    </tr>\n",
       "  </tbody>\n",
       "</table>\n",
       "</div>"
      ],
      "text/plain": [
       "   Administrative  Administrative_Duration  Informational  \\\n",
       "0             0.0                      0.0            0.0   \n",
       "1             0.0                      0.0            0.0   \n",
       "2             0.0                      0.0            0.0   \n",
       "3             0.0                      0.0            0.0   \n",
       "4             0.0                      0.0            0.0   \n",
       "\n",
       "   Informational_Duration  ProductRelated  ProductRelated_Duration  \\\n",
       "0                     0.0        0.001418                 0.000000   \n",
       "1                     0.0        0.002837                 0.001000   \n",
       "2                     0.0        0.001418                 0.000000   \n",
       "3                     0.0        0.002837                 0.000042   \n",
       "4                     0.0        0.014184                 0.009809   \n",
       "\n",
       "   BounceRates  ExitRates  PageValues  SpecialDay  Month  OperatingSystems  \\\n",
       "0         1.00       1.00         0.0         0.0      2                 1   \n",
       "1         0.00       0.50         0.0         0.0      2                 2   \n",
       "2         1.00       1.00         0.0         0.0      2                 4   \n",
       "3         0.25       0.70         0.0         0.0      2                 3   \n",
       "4         0.10       0.25         0.0         0.0      2                 3   \n",
       "\n",
       "   Browser  Region  TrafficType  VisitorType  Weekend  Revenue  \n",
       "0        1       1            1            2    False    False  \n",
       "1        2       1            2            2    False    False  \n",
       "2        1       9            3            2    False    False  \n",
       "3        2       2            4            2    False    False  \n",
       "4        3       1            4            2     True    False  "
      ]
     },
     "execution_count": 38,
     "metadata": {},
     "output_type": "execute_result"
    }
   ],
   "source": [
    "data.head()"
   ]
  },
  {
   "cell_type": "markdown",
   "id": "554692cb",
   "metadata": {},
   "source": [
    "### Training and Test Dataset"
   ]
  },
  {
   "cell_type": "markdown",
   "id": "64b462d2",
   "metadata": {},
   "source": [
    "#### Independent and Dependent Variables"
   ]
  },
  {
   "cell_type": "markdown",
   "id": "f72f8641",
   "metadata": {},
   "source": [
    "Dalam dataset user online purchase, label target sudah diketahui, yaitu kolom Revenue yang bernilai 1 untuk user yang membeli dan 0 untuk yang tidak membeli, sehingga pemodelan yang dilakukan ini adalah klasifikasi."
   ]
  },
  {
   "cell_type": "code",
   "execution_count": 39,
   "id": "49cd57b6",
   "metadata": {},
   "outputs": [],
   "source": [
    "X = data.drop(['Revenue'], axis=1)\n",
    "y = data['Revenue']"
   ]
  },
  {
   "cell_type": "code",
   "execution_count": 40,
   "id": "6f9151e2",
   "metadata": {},
   "outputs": [
    {
     "data": {
      "text/plain": [
       "(12330, 17)"
      ]
     },
     "execution_count": 40,
     "metadata": {},
     "output_type": "execute_result"
    }
   ],
   "source": [
    "X.shape"
   ]
  },
  {
   "cell_type": "code",
   "execution_count": 41,
   "id": "28e45a34",
   "metadata": {},
   "outputs": [
    {
     "data": {
      "text/plain": [
       "(12330,)"
      ]
     },
     "execution_count": 41,
     "metadata": {},
     "output_type": "execute_result"
    }
   ],
   "source": [
    "y.shape"
   ]
  },
  {
   "cell_type": "markdown",
   "id": "ea2a68df",
   "metadata": {},
   "source": [
    "### Decision Tree"
   ]
  },
  {
   "cell_type": "markdown",
   "id": "d7d43f16",
   "metadata": {},
   "source": [
    "Dataset perlu kita bagi ke dalam training dataset dan test dataset dengan perbandingan 80:20. 80% digunakan untuk training dan 20% untuk proses testing"
   ]
  },
  {
   "cell_type": "markdown",
   "id": "d179ce3a",
   "metadata": {},
   "source": [
    "#### Import Module"
   ]
  },
  {
   "cell_type": "code",
   "execution_count": 42,
   "id": "f2808c4f",
   "metadata": {},
   "outputs": [],
   "source": [
    "from sklearn.model_selection import train_test_split\n",
    "from sklearn.tree import DecisionTreeClassifier\n",
    "model = DecisionTreeClassifier()"
   ]
  },
  {
   "cell_type": "code",
   "execution_count": 43,
   "id": "9b5176f2",
   "metadata": {},
   "outputs": [],
   "source": [
    "X_train, X_test, y_train, y_test = train_test_split(X, y, test_size=0.2, random_state=0)"
   ]
  },
  {
   "cell_type": "code",
   "execution_count": 44,
   "id": "45857b82",
   "metadata": {},
   "outputs": [
    {
     "data": {
      "text/plain": [
       "(9864, 17)"
      ]
     },
     "execution_count": 44,
     "metadata": {},
     "output_type": "execute_result"
    }
   ],
   "source": [
    "X_train.shape"
   ]
  },
  {
   "cell_type": "code",
   "execution_count": 45,
   "id": "ff69d332",
   "metadata": {},
   "outputs": [
    {
     "data": {
      "text/plain": [
       "(9864,)"
      ]
     },
     "execution_count": 45,
     "metadata": {},
     "output_type": "execute_result"
    }
   ],
   "source": [
    "y_train.shape"
   ]
  },
  {
   "cell_type": "code",
   "execution_count": 46,
   "id": "d06a924a",
   "metadata": {},
   "outputs": [
    {
     "data": {
      "text/plain": [
       "(2466, 17)"
      ]
     },
     "execution_count": 46,
     "metadata": {},
     "output_type": "execute_result"
    }
   ],
   "source": [
    "X_test.shape"
   ]
  },
  {
   "cell_type": "code",
   "execution_count": 47,
   "id": "e748ad7b",
   "metadata": {},
   "outputs": [
    {
     "data": {
      "text/plain": [
       "(2466,)"
      ]
     },
     "execution_count": 47,
     "metadata": {},
     "output_type": "execute_result"
    }
   ],
   "source": [
    "y_test.shape"
   ]
  },
  {
   "cell_type": "markdown",
   "id": "865a1c56",
   "metadata": {},
   "source": [
    "### Training Model : Fit"
   ]
  },
  {
   "cell_type": "code",
   "execution_count": 48,
   "id": "24626cc8",
   "metadata": {},
   "outputs": [],
   "source": [
    "model = model.fit(X_train, y_train)"
   ]
  },
  {
   "cell_type": "markdown",
   "id": "ea030741",
   "metadata": {},
   "source": [
    "### Training Model : Predict"
   ]
  },
  {
   "cell_type": "code",
   "execution_count": 49,
   "id": "cc292a2d",
   "metadata": {},
   "outputs": [],
   "source": [
    "y_pred = model.predict(X_test)"
   ]
  },
  {
   "cell_type": "code",
   "execution_count": 50,
   "id": "e6789acb",
   "metadata": {},
   "outputs": [
    {
     "data": {
      "text/plain": [
       "(2466,)"
      ]
     },
     "execution_count": 50,
     "metadata": {},
     "output_type": "execute_result"
    }
   ],
   "source": [
    "y_pred.shape"
   ]
  },
  {
   "cell_type": "markdown",
   "id": "6e3aba6f",
   "metadata": {},
   "source": [
    "### Evaluasi Model Performance"
   ]
  },
  {
   "cell_type": "markdown",
   "id": "13503b55",
   "metadata": {},
   "source": [
    "#### Import Module"
   ]
  },
  {
   "cell_type": "code",
   "execution_count": 51,
   "id": "ddb7fc2b",
   "metadata": {},
   "outputs": [],
   "source": [
    "from sklearn.metrics import confusion_matrix, classification_report"
   ]
  },
  {
   "cell_type": "code",
   "execution_count": 52,
   "id": "c2429e22",
   "metadata": {},
   "outputs": [
    {
     "data": {
      "text/plain": [
       "1.0"
      ]
     },
     "execution_count": 52,
     "metadata": {},
     "output_type": "execute_result"
    }
   ],
   "source": [
    "model.score(X_train, y_train)"
   ]
  },
  {
   "cell_type": "code",
   "execution_count": 53,
   "id": "8c665a5b",
   "metadata": {},
   "outputs": [
    {
     "data": {
      "text/plain": [
       "0.8592862935928629"
      ]
     },
     "execution_count": 53,
     "metadata": {},
     "output_type": "execute_result"
    }
   ],
   "source": [
    "model.score(X_test, y_test)"
   ]
  },
  {
   "cell_type": "markdown",
   "id": "db4c49b9",
   "metadata": {},
   "source": [
    "#### Penjelasan\n",
    "Testing Accuracy menjunjukkan angka 0.8592. Ini berarti akurasi model dengan menggunakan Testing Dataset adalah 85,92 %. Model yang dibuat sudah cukup baik untuk memprediksi Target Feature."
   ]
  },
  {
   "cell_type": "markdown",
   "id": "7e3e4121",
   "metadata": {},
   "source": [
    "#### Confusion Matrix"
   ]
  },
  {
   "cell_type": "code",
   "execution_count": 61,
   "id": "0e69f882",
   "metadata": {},
   "outputs": [
    {
     "name": "stdout",
     "output_type": "stream",
     "text": [
      "[[1885  159]\n",
      " [ 188  234]]\n"
     ]
    }
   ],
   "source": [
    "print(confusion_matrix(y_test, y_pred))"
   ]
  },
  {
   "cell_type": "markdown",
   "id": "440645fa",
   "metadata": {},
   "source": [
    "#### Penjelasan\n",
    "Confusion Matrix mempresentasikan perbandingan prediksi  dan real label dari test dataset yang dihasilkan oleh ML.\n",
    "1. 1885 (True Positive) - Memprediksi pelanggan yang berbelanja di weekend dan memang benar pelanggan berbelanja di weekend.\n",
    "2. 134 (True Negative) - Memprediksi pelanggan yang tidak berbelanja di weekend dan memang pelanggan tidak berbelanja di weekend.\n",
    "3. 159 (False Positive) - Memprediksi pelanggan berbelanja di weekend tapi ternyata pelanggan tidak berbelanja di weekend.\n",
    "4. 188 (False Negative) - Memprediksi pelanggan tidak berbelanja di weekend tapi ternyata pelanggan berbelanja di weekend."
   ]
  },
  {
   "cell_type": "markdown",
   "id": "1b23109f",
   "metadata": {},
   "source": [
    "#### Classification Report"
   ]
  },
  {
   "cell_type": "code",
   "execution_count": 60,
   "id": "f2524ce5",
   "metadata": {},
   "outputs": [
    {
     "name": "stdout",
     "output_type": "stream",
     "text": [
      "              precision    recall  f1-score   support\n",
      "\n",
      "       False       0.91      0.92      0.92      2044\n",
      "        True       0.60      0.55      0.57       422\n",
      "\n",
      "    accuracy                           0.86      2466\n",
      "   macro avg       0.75      0.74      0.74      2466\n",
      "weighted avg       0.86      0.86      0.86      2466\n",
      "\n"
     ]
    }
   ],
   "source": [
    "print(classification_report(y_test, y_pred))"
   ]
  },
  {
   "cell_type": "markdown",
   "id": "b96ee8c0",
   "metadata": {},
   "source": [
    "Jika dataset memiliki jumlah data False Negatif dan False Positif yang seimbang (Symmetric), maka bisa gunakan Accuracy, tetapi jika tidak seimbang, maka sebaiknya menggunakan F1-Score.\n",
    "Dalam suatu problem, jika lebih memilih False Positif lebih baik terjadi daripada False Negatif, misalnya: Dalam kasus Fraud/Scam, kecenderungan model mendeteksi transaksi sebagai fraud walaupun kenyataannya bukan, dianggap lebih baik, daripada transaksi tersebut tidak terdeteksi sebagai fraud tetapi ternyata fraud. Untuk problem ini sebaiknya menggunakan Recall. Sebaliknya, jika lebih menginginkan terjadinya True Negatif dan sangat tidak menginginkan terjadinya False Positif, sebaiknya menggunakan Precision."
   ]
  }
 ],
 "metadata": {
  "kernelspec": {
   "display_name": "Python 3 (ipykernel)",
   "language": "python",
   "name": "python3"
  },
  "language_info": {
   "codemirror_mode": {
    "name": "ipython",
    "version": 3
   },
   "file_extension": ".py",
   "mimetype": "text/x-python",
   "name": "python",
   "nbconvert_exporter": "python",
   "pygments_lexer": "ipython3",
   "version": "3.9.7"
  }
 },
 "nbformat": 4,
 "nbformat_minor": 5
}
